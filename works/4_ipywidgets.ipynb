{
 "cells": [
  {
   "cell_type": "code",
   "execution_count": 1,
   "id": "930c0385-e92a-487f-a318-a28ef84dfa96",
   "metadata": {},
   "outputs": [
    {
     "name": "stdout",
     "output_type": "stream",
     "text": [
      "Requirement already satisfied: plotly in /home/alumnobd/anaconda3/lib/python3.9/site-packages (5.7.0)\n",
      "Requirement already satisfied: tenacity>=6.2.0 in /home/alumnobd/anaconda3/lib/python3.9/site-packages (from plotly) (8.0.1)\n",
      "Requirement already satisfied: six in /home/alumnobd/anaconda3/lib/python3.9/site-packages (from plotly) (1.16.0)\n"
     ]
    }
   ],
   "source": [
    "!pip install plotly"
   ]
  },
  {
   "cell_type": "code",
   "execution_count": 1,
   "id": "8870bb9b-fd94-4f73-8378-9aef62053eea",
   "metadata": {
    "executionInfo": {
     "elapsed": 2198,
     "status": "ok",
     "timestamp": 1651584835309,
     "user": {
      "displayName": "Laura Bosco Romero",
      "userId": "09918767640630398267"
     },
     "user_tz": -120
    },
    "id": "8870bb9b-fd94-4f73-8378-9aef62053eea"
   },
   "outputs": [],
   "source": [
    "# Imports\n",
    "import ipywidgets as widgets\n",
    "from ipywidgets import interact\n",
    "import pandas as pd\n",
    "import matplotlib.pyplot as plt"
   ]
  },
  {
   "cell_type": "code",
   "execution_count": 2,
   "id": "16a9b356-2246-411c-b0d3-a76b5eb1e1dd",
   "metadata": {
    "executionInfo": {
     "elapsed": 861,
     "status": "ok",
     "timestamp": 1651584861606,
     "user": {
      "displayName": "Laura Bosco Romero",
      "userId": "09918767640630398267"
     },
     "user_tz": -120
    },
    "id": "16a9b356-2246-411c-b0d3-a76b5eb1e1dd"
   },
   "outputs": [],
   "source": [
    "# Data file import\n",
    "path = \"../data/\"\n",
    "data = pd.read_csv(path + \"statage.csv\", sep = \",\")"
   ]
  },
  {
   "cell_type": "code",
   "execution_count": 3,
   "id": "49cf3aaa-1069-4ed2-919b-30aac754747d",
   "metadata": {
    "colab": {
     "base_uri": "https://localhost:8080/",
     "height": 206
    },
    "executionInfo": {
     "elapsed": 29,
     "status": "ok",
     "timestamp": 1651584861607,
     "user": {
      "displayName": "Laura Bosco Romero",
      "userId": "09918767640630398267"
     },
     "user_tz": -120
    },
    "id": "49cf3aaa-1069-4ed2-919b-30aac754747d",
    "outputId": "c22ecbfe-adf1-4f66-e6fa-a8e1d07fa95e"
   },
   "outputs": [
    {
     "data": {
      "text/html": [
       "<div>\n",
       "<style scoped>\n",
       "    .dataframe tbody tr th:only-of-type {\n",
       "        vertical-align: middle;\n",
       "    }\n",
       "\n",
       "    .dataframe tbody tr th {\n",
       "        vertical-align: top;\n",
       "    }\n",
       "\n",
       "    .dataframe thead th {\n",
       "        text-align: right;\n",
       "    }\n",
       "</style>\n",
       "<table border=\"1\" class=\"dataframe\">\n",
       "  <thead>\n",
       "    <tr style=\"text-align: right;\">\n",
       "      <th></th>\n",
       "      <th>Sex</th>\n",
       "      <th>Agemos</th>\n",
       "      <th>L</th>\n",
       "      <th>M</th>\n",
       "      <th>S</th>\n",
       "      <th>P3</th>\n",
       "      <th>P5</th>\n",
       "      <th>P10</th>\n",
       "      <th>P25</th>\n",
       "      <th>P50</th>\n",
       "      <th>P75</th>\n",
       "      <th>P90</th>\n",
       "      <th>P95</th>\n",
       "      <th>P97</th>\n",
       "    </tr>\n",
       "  </thead>\n",
       "  <tbody>\n",
       "    <tr>\n",
       "      <th>431</th>\n",
       "      <td>2</td>\n",
       "      <td>236.5</td>\n",
       "      <td>1.101363</td>\n",
       "      <td>163.317535</td>\n",
       "      <td>0.039642</td>\n",
       "      <td>151.093368</td>\n",
       "      <td>152.632203</td>\n",
       "      <td>154.998646</td>\n",
       "      <td>158.944742</td>\n",
       "      <td>163.317535</td>\n",
       "      <td>167.678491</td>\n",
       "      <td>171.593672</td>\n",
       "      <td>173.932413</td>\n",
       "      <td>175.449558</td>\n",
       "    </tr>\n",
       "    <tr>\n",
       "      <th>432</th>\n",
       "      <td>2</td>\n",
       "      <td>237.5</td>\n",
       "      <td>1.103342</td>\n",
       "      <td>163.323723</td>\n",
       "      <td>0.039640</td>\n",
       "      <td>151.098687</td>\n",
       "      <td>152.637736</td>\n",
       "      <td>155.004448</td>\n",
       "      <td>158.950835</td>\n",
       "      <td>163.323723</td>\n",
       "      <td>167.684544</td>\n",
       "      <td>171.599413</td>\n",
       "      <td>173.937884</td>\n",
       "      <td>175.454821</td>\n",
       "    </tr>\n",
       "    <tr>\n",
       "      <th>433</th>\n",
       "      <td>2</td>\n",
       "      <td>238.5</td>\n",
       "      <td>1.105265</td>\n",
       "      <td>163.329692</td>\n",
       "      <td>0.039639</td>\n",
       "      <td>151.103815</td>\n",
       "      <td>152.643072</td>\n",
       "      <td>155.010045</td>\n",
       "      <td>158.956712</td>\n",
       "      <td>163.329692</td>\n",
       "      <td>167.690380</td>\n",
       "      <td>171.604944</td>\n",
       "      <td>173.943152</td>\n",
       "      <td>175.459885</td>\n",
       "    </tr>\n",
       "    <tr>\n",
       "      <th>434</th>\n",
       "      <td>2</td>\n",
       "      <td>239.5</td>\n",
       "      <td>1.107133</td>\n",
       "      <td>163.335449</td>\n",
       "      <td>0.039637</td>\n",
       "      <td>151.108761</td>\n",
       "      <td>152.648219</td>\n",
       "      <td>155.015445</td>\n",
       "      <td>158.962383</td>\n",
       "      <td>163.335449</td>\n",
       "      <td>167.696006</td>\n",
       "      <td>171.610274</td>\n",
       "      <td>173.948224</td>\n",
       "      <td>175.464760</td>\n",
       "    </tr>\n",
       "    <tr>\n",
       "      <th>435</th>\n",
       "      <td>2</td>\n",
       "      <td>240.0</td>\n",
       "      <td>1.108046</td>\n",
       "      <td>163.338251</td>\n",
       "      <td>0.039636</td>\n",
       "      <td>151.111167</td>\n",
       "      <td>152.650723</td>\n",
       "      <td>155.018073</td>\n",
       "      <td>158.965143</td>\n",
       "      <td>163.338251</td>\n",
       "      <td>167.698744</td>\n",
       "      <td>171.612865</td>\n",
       "      <td>173.950690</td>\n",
       "      <td>175.467129</td>\n",
       "    </tr>\n",
       "  </tbody>\n",
       "</table>\n",
       "</div>"
      ],
      "text/plain": [
       "     Sex  Agemos         L           M         S          P3          P5  \\\n",
       "431    2   236.5  1.101363  163.317535  0.039642  151.093368  152.632203   \n",
       "432    2   237.5  1.103342  163.323723  0.039640  151.098687  152.637736   \n",
       "433    2   238.5  1.105265  163.329692  0.039639  151.103815  152.643072   \n",
       "434    2   239.5  1.107133  163.335449  0.039637  151.108761  152.648219   \n",
       "435    2   240.0  1.108046  163.338251  0.039636  151.111167  152.650723   \n",
       "\n",
       "            P10         P25         P50         P75         P90         P95  \\\n",
       "431  154.998646  158.944742  163.317535  167.678491  171.593672  173.932413   \n",
       "432  155.004448  158.950835  163.323723  167.684544  171.599413  173.937884   \n",
       "433  155.010045  158.956712  163.329692  167.690380  171.604944  173.943152   \n",
       "434  155.015445  158.962383  163.335449  167.696006  171.610274  173.948224   \n",
       "435  155.018073  158.965143  163.338251  167.698744  171.612865  173.950690   \n",
       "\n",
       "            P97  \n",
       "431  175.449558  \n",
       "432  175.454821  \n",
       "433  175.459885  \n",
       "434  175.464760  \n",
       "435  175.467129  "
      ]
     },
     "execution_count": 3,
     "metadata": {},
     "output_type": "execute_result"
    }
   ],
   "source": [
    "# Data sample\n",
    "data.tail()"
   ]
  },
  {
   "cell_type": "markdown",
   "id": "5d358674-be60-4561-9779-c24ece850d8b",
   "metadata": {
    "id": "5d358674-be60-4561-9779-c24ece850d8b"
   },
   "source": [
    "# Exercise 2 (3pts)\n",
    "From statage.csv, using ipywidgets, write a notebook that displays height versus age with the following controls:\n",
    "*   A drop down list or radio buttons to choose between male and female.\n",
    "*   Checkboxes to display the median and the 75th percentile.\n",
    "\n",
    "Changing the value of any of the controls will update the chart."
   ]
  },
  {
   "cell_type": "code",
   "execution_count": 4,
   "id": "uUygNTqqZyrT",
   "metadata": {
    "colab": {
     "base_uri": "https://localhost:8080/",
     "height": 391,
     "referenced_widgets": [
      "5a021e7626f6473b8e0a2898645a40b8",
      "f8321bbdfb72462db24031ec7be34845",
      "ee04b73c80674596a68243a6901c16e1",
      "632a2023acbb47ebbde8fd86eabf1860",
      "45e7abc662b54290a5bebf628d6c2f15",
      "5c6508842f914658b15b657603397f0b",
      "9be25d4d7536440889390a2243f32d07",
      "c7d233cfdf094133b526fbbd40b2ed39",
      "d70cbc85cdd94f45ba4c6d063b30b9e4",
      "75e754a7dea34debad92f9652a7213b9",
      "ce1d4f4154c84a0a9b24b95023a19527",
      "8b159f9f2b5b471fa9ba1506af137488",
      "65920e151a7a4aba83901d255faa82ff"
     ]
    },
    "executionInfo": {
     "elapsed": 725,
     "status": "ok",
     "timestamp": 1651585139452,
     "user": {
      "displayName": "Laura Bosco Romero",
      "userId": "09918767640630398267"
     },
     "user_tz": -120
    },
    "id": "uUygNTqqZyrT",
    "outputId": "3d7648ac-5ecf-4171-e832-44677a712e2c"
   },
   "outputs": [
    {
     "data": {
      "application/vnd.jupyter.widget-view+json": {
       "model_id": "1b3ec0d5fcbc4d7fae8c4c9a97d790f2",
       "version_major": 2,
       "version_minor": 0
      },
      "text/plain": [
       "interactive(children=(Dropdown(description='Gender', options=('Men', 'Women'), value='Men'), Checkbox(value=Tr…"
      ]
     },
     "metadata": {},
     "output_type": "display_data"
    }
   ],
   "source": [
    "# We add the gender selector and the median and 75th percentile checkboxes\n",
    "@interact(Gender = ['Men', 'Women'],\n",
    "          Median = widgets.Checkbox(\n",
    "            value=True,\n",
    "            disabled=False,\n",
    "            indent=False\n",
    "          ),\n",
    "          Percentile = widgets.Checkbox(\n",
    "            value=True,\n",
    "            disabled=False,\n",
    "            indent=False\n",
    "          )\n",
    ")\n",
    "\n",
    "# We create the function\n",
    "def loadGraphic(Gender, Median, Percentile):\n",
    "    # We create the dataframe based on the gender that has been chosen\n",
    "    if Gender == 'Men':\n",
    "      partial = data[data.Sex == 1]\n",
    "    elif Gender == 'Women':\n",
    "      partial = data[data.Sex == 2]\n",
    "    \n",
    "    # We add the graph of the median if the checkbox is selected\n",
    "    if Median:\n",
    "      plt.scatter(partial.Agemos, partial.M, c = '#7897AB')\n",
    "    # We add the 75th percentile plot if the checkbox is selected\n",
    "    if Percentile:\n",
    "      plt.scatter(partial.Agemos, partial.P75, c = '#D885A3')\n",
    "\n",
    "    # We define some labels to the graph and display it\n",
    "    plt.xlabel('Age')\n",
    "    plt.ylabel('Height')\n",
    "    plt.title('Height based on age')\n",
    "    plt.show()"
   ]
  }
 ],
 "metadata": {
  "colab": {
   "collapsed_sections": [],
   "name": "LauraBosco_entrega2_2.ipynb",
   "provenance": []
  },
  "kernelspec": {
   "display_name": "Python 3.9.7 ('base')",
   "language": "python",
   "name": "python3"
  },
  "language_info": {
   "codemirror_mode": {
    "name": "ipython",
    "version": 3
   },
   "file_extension": ".py",
   "mimetype": "text/x-python",
   "name": "python",
   "nbconvert_exporter": "python",
   "pygments_lexer": "ipython3",
   "version": "3.9.7"
  },
  "vscode": {
   "interpreter": {
    "hash": "49cb93f377a7abe7414b7b0f21fb3017538004a126cf690fb524202736b7fb92"
   }
  },
  "widgets": {
   "application/vnd.jupyter.widget-state+json": {
    "45e7abc662b54290a5bebf628d6c2f15": {
     "model_module": "@jupyter-widgets/output",
     "model_module_version": "1.0.0",
     "model_name": "OutputModel",
     "state": {
      "_dom_classes": [],
      "_model_module": "@jupyter-widgets/output",
      "_model_module_version": "1.0.0",
      "_model_name": "OutputModel",
      "_view_count": null,
      "_view_module": "@jupyter-widgets/output",
      "_view_module_version": "1.0.0",
      "_view_name": "OutputView",
      "layout": "IPY_MODEL_65920e151a7a4aba83901d255faa82ff",
      "msg_id": "",
      "outputs": [
       {
        "data": {
         "image/png": "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\n",
         "text/plain": "<Figure size 432x288 with 1 Axes>"
        },
        "metadata": {
         "needs_background": "light"
        },
        "output_type": "display_data"
       }
      ]
     }
    },
    "5a021e7626f6473b8e0a2898645a40b8": {
     "model_module": "@jupyter-widgets/controls",
     "model_module_version": "1.5.0",
     "model_name": "VBoxModel",
     "state": {
      "_dom_classes": [
       "widget-interact"
      ],
      "_model_module": "@jupyter-widgets/controls",
      "_model_module_version": "1.5.0",
      "_model_name": "VBoxModel",
      "_view_count": null,
      "_view_module": "@jupyter-widgets/controls",
      "_view_module_version": "1.5.0",
      "_view_name": "VBoxView",
      "box_style": "",
      "children": [
       "IPY_MODEL_f8321bbdfb72462db24031ec7be34845",
       "IPY_MODEL_ee04b73c80674596a68243a6901c16e1",
       "IPY_MODEL_632a2023acbb47ebbde8fd86eabf1860",
       "IPY_MODEL_45e7abc662b54290a5bebf628d6c2f15"
      ],
      "layout": "IPY_MODEL_5c6508842f914658b15b657603397f0b"
     }
    },
    "5c6508842f914658b15b657603397f0b": {
     "model_module": "@jupyter-widgets/base",
     "model_module_version": "1.2.0",
     "model_name": "LayoutModel",
     "state": {
      "_model_module": "@jupyter-widgets/base",
      "_model_module_version": "1.2.0",
      "_model_name": "LayoutModel",
      "_view_count": null,
      "_view_module": "@jupyter-widgets/base",
      "_view_module_version": "1.2.0",
      "_view_name": "LayoutView",
      "align_content": null,
      "align_items": null,
      "align_self": null,
      "border": null,
      "bottom": null,
      "display": null,
      "flex": null,
      "flex_flow": null,
      "grid_area": null,
      "grid_auto_columns": null,
      "grid_auto_flow": null,
      "grid_auto_rows": null,
      "grid_column": null,
      "grid_gap": null,
      "grid_row": null,
      "grid_template_areas": null,
      "grid_template_columns": null,
      "grid_template_rows": null,
      "height": null,
      "justify_content": null,
      "justify_items": null,
      "left": null,
      "margin": null,
      "max_height": null,
      "max_width": null,
      "min_height": null,
      "min_width": null,
      "object_fit": null,
      "object_position": null,
      "order": null,
      "overflow": null,
      "overflow_x": null,
      "overflow_y": null,
      "padding": null,
      "right": null,
      "top": null,
      "visibility": null,
      "width": null
     }
    },
    "632a2023acbb47ebbde8fd86eabf1860": {
     "model_module": "@jupyter-widgets/controls",
     "model_module_version": "1.5.0",
     "model_name": "CheckboxModel",
     "state": {
      "_dom_classes": [],
      "_model_module": "@jupyter-widgets/controls",
      "_model_module_version": "1.5.0",
      "_model_name": "CheckboxModel",
      "_view_count": null,
      "_view_module": "@jupyter-widgets/controls",
      "_view_module_version": "1.5.0",
      "_view_name": "CheckboxView",
      "description": "Percentil",
      "description_tooltip": null,
      "disabled": false,
      "indent": false,
      "layout": "IPY_MODEL_ce1d4f4154c84a0a9b24b95023a19527",
      "style": "IPY_MODEL_8b159f9f2b5b471fa9ba1506af137488",
      "value": true
     }
    },
    "65920e151a7a4aba83901d255faa82ff": {
     "model_module": "@jupyter-widgets/base",
     "model_module_version": "1.2.0",
     "model_name": "LayoutModel",
     "state": {
      "_model_module": "@jupyter-widgets/base",
      "_model_module_version": "1.2.0",
      "_model_name": "LayoutModel",
      "_view_count": null,
      "_view_module": "@jupyter-widgets/base",
      "_view_module_version": "1.2.0",
      "_view_name": "LayoutView",
      "align_content": null,
      "align_items": null,
      "align_self": null,
      "border": null,
      "bottom": null,
      "display": null,
      "flex": null,
      "flex_flow": null,
      "grid_area": null,
      "grid_auto_columns": null,
      "grid_auto_flow": null,
      "grid_auto_rows": null,
      "grid_column": null,
      "grid_gap": null,
      "grid_row": null,
      "grid_template_areas": null,
      "grid_template_columns": null,
      "grid_template_rows": null,
      "height": null,
      "justify_content": null,
      "justify_items": null,
      "left": null,
      "margin": null,
      "max_height": null,
      "max_width": null,
      "min_height": null,
      "min_width": null,
      "object_fit": null,
      "object_position": null,
      "order": null,
      "overflow": null,
      "overflow_x": null,
      "overflow_y": null,
      "padding": null,
      "right": null,
      "top": null,
      "visibility": null,
      "width": null
     }
    },
    "75e754a7dea34debad92f9652a7213b9": {
     "model_module": "@jupyter-widgets/controls",
     "model_module_version": "1.5.0",
     "model_name": "DescriptionStyleModel",
     "state": {
      "_model_module": "@jupyter-widgets/controls",
      "_model_module_version": "1.5.0",
      "_model_name": "DescriptionStyleModel",
      "_view_count": null,
      "_view_module": "@jupyter-widgets/base",
      "_view_module_version": "1.2.0",
      "_view_name": "StyleView",
      "description_width": ""
     }
    },
    "8b159f9f2b5b471fa9ba1506af137488": {
     "model_module": "@jupyter-widgets/controls",
     "model_module_version": "1.5.0",
     "model_name": "DescriptionStyleModel",
     "state": {
      "_model_module": "@jupyter-widgets/controls",
      "_model_module_version": "1.5.0",
      "_model_name": "DescriptionStyleModel",
      "_view_count": null,
      "_view_module": "@jupyter-widgets/base",
      "_view_module_version": "1.2.0",
      "_view_name": "StyleView",
      "description_width": ""
     }
    },
    "9be25d4d7536440889390a2243f32d07": {
     "model_module": "@jupyter-widgets/base",
     "model_module_version": "1.2.0",
     "model_name": "LayoutModel",
     "state": {
      "_model_module": "@jupyter-widgets/base",
      "_model_module_version": "1.2.0",
      "_model_name": "LayoutModel",
      "_view_count": null,
      "_view_module": "@jupyter-widgets/base",
      "_view_module_version": "1.2.0",
      "_view_name": "LayoutView",
      "align_content": null,
      "align_items": null,
      "align_self": null,
      "border": null,
      "bottom": null,
      "display": null,
      "flex": null,
      "flex_flow": null,
      "grid_area": null,
      "grid_auto_columns": null,
      "grid_auto_flow": null,
      "grid_auto_rows": null,
      "grid_column": null,
      "grid_gap": null,
      "grid_row": null,
      "grid_template_areas": null,
      "grid_template_columns": null,
      "grid_template_rows": null,
      "height": null,
      "justify_content": null,
      "justify_items": null,
      "left": null,
      "margin": null,
      "max_height": null,
      "max_width": null,
      "min_height": null,
      "min_width": null,
      "object_fit": null,
      "object_position": null,
      "order": null,
      "overflow": null,
      "overflow_x": null,
      "overflow_y": null,
      "padding": null,
      "right": null,
      "top": null,
      "visibility": null,
      "width": null
     }
    },
    "c7d233cfdf094133b526fbbd40b2ed39": {
     "model_module": "@jupyter-widgets/controls",
     "model_module_version": "1.5.0",
     "model_name": "DescriptionStyleModel",
     "state": {
      "_model_module": "@jupyter-widgets/controls",
      "_model_module_version": "1.5.0",
      "_model_name": "DescriptionStyleModel",
      "_view_count": null,
      "_view_module": "@jupyter-widgets/base",
      "_view_module_version": "1.2.0",
      "_view_name": "StyleView",
      "description_width": ""
     }
    },
    "ce1d4f4154c84a0a9b24b95023a19527": {
     "model_module": "@jupyter-widgets/base",
     "model_module_version": "1.2.0",
     "model_name": "LayoutModel",
     "state": {
      "_model_module": "@jupyter-widgets/base",
      "_model_module_version": "1.2.0",
      "_model_name": "LayoutModel",
      "_view_count": null,
      "_view_module": "@jupyter-widgets/base",
      "_view_module_version": "1.2.0",
      "_view_name": "LayoutView",
      "align_content": null,
      "align_items": null,
      "align_self": null,
      "border": null,
      "bottom": null,
      "display": null,
      "flex": null,
      "flex_flow": null,
      "grid_area": null,
      "grid_auto_columns": null,
      "grid_auto_flow": null,
      "grid_auto_rows": null,
      "grid_column": null,
      "grid_gap": null,
      "grid_row": null,
      "grid_template_areas": null,
      "grid_template_columns": null,
      "grid_template_rows": null,
      "height": null,
      "justify_content": null,
      "justify_items": null,
      "left": null,
      "margin": null,
      "max_height": null,
      "max_width": null,
      "min_height": null,
      "min_width": null,
      "object_fit": null,
      "object_position": null,
      "order": null,
      "overflow": null,
      "overflow_x": null,
      "overflow_y": null,
      "padding": null,
      "right": null,
      "top": null,
      "visibility": null,
      "width": null
     }
    },
    "d70cbc85cdd94f45ba4c6d063b30b9e4": {
     "model_module": "@jupyter-widgets/base",
     "model_module_version": "1.2.0",
     "model_name": "LayoutModel",
     "state": {
      "_model_module": "@jupyter-widgets/base",
      "_model_module_version": "1.2.0",
      "_model_name": "LayoutModel",
      "_view_count": null,
      "_view_module": "@jupyter-widgets/base",
      "_view_module_version": "1.2.0",
      "_view_name": "LayoutView",
      "align_content": null,
      "align_items": null,
      "align_self": null,
      "border": null,
      "bottom": null,
      "display": null,
      "flex": null,
      "flex_flow": null,
      "grid_area": null,
      "grid_auto_columns": null,
      "grid_auto_flow": null,
      "grid_auto_rows": null,
      "grid_column": null,
      "grid_gap": null,
      "grid_row": null,
      "grid_template_areas": null,
      "grid_template_columns": null,
      "grid_template_rows": null,
      "height": null,
      "justify_content": null,
      "justify_items": null,
      "left": null,
      "margin": null,
      "max_height": null,
      "max_width": null,
      "min_height": null,
      "min_width": null,
      "object_fit": null,
      "object_position": null,
      "order": null,
      "overflow": null,
      "overflow_x": null,
      "overflow_y": null,
      "padding": null,
      "right": null,
      "top": null,
      "visibility": null,
      "width": null
     }
    },
    "ee04b73c80674596a68243a6901c16e1": {
     "model_module": "@jupyter-widgets/controls",
     "model_module_version": "1.5.0",
     "model_name": "CheckboxModel",
     "state": {
      "_dom_classes": [],
      "_model_module": "@jupyter-widgets/controls",
      "_model_module_version": "1.5.0",
      "_model_name": "CheckboxModel",
      "_view_count": null,
      "_view_module": "@jupyter-widgets/controls",
      "_view_module_version": "1.5.0",
      "_view_name": "CheckboxView",
      "description": "Mediana",
      "description_tooltip": null,
      "disabled": false,
      "indent": false,
      "layout": "IPY_MODEL_d70cbc85cdd94f45ba4c6d063b30b9e4",
      "style": "IPY_MODEL_75e754a7dea34debad92f9652a7213b9",
      "value": true
     }
    },
    "f8321bbdfb72462db24031ec7be34845": {
     "model_module": "@jupyter-widgets/controls",
     "model_module_version": "1.5.0",
     "model_name": "DropdownModel",
     "state": {
      "_dom_classes": [],
      "_model_module": "@jupyter-widgets/controls",
      "_model_module_version": "1.5.0",
      "_model_name": "DropdownModel",
      "_options_labels": [
       "Hombres",
       "Mujeres"
      ],
      "_view_count": null,
      "_view_module": "@jupyter-widgets/controls",
      "_view_module_version": "1.5.0",
      "_view_name": "DropdownView",
      "description": "Sexo",
      "description_tooltip": null,
      "disabled": false,
      "index": 0,
      "layout": "IPY_MODEL_9be25d4d7536440889390a2243f32d07",
      "style": "IPY_MODEL_c7d233cfdf094133b526fbbd40b2ed39"
     }
    }
   }
  }
 },
 "nbformat": 4,
 "nbformat_minor": 5
}
