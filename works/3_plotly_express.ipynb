{
 "cells": [
  {
   "cell_type": "code",
   "execution_count": 1,
   "id": "b54ce575-2225-4e32-92ee-e4b25f57bb9c",
   "metadata": {},
   "outputs": [
    {
     "name": "stdout",
     "output_type": "stream",
     "text": [
      "Requirement already satisfied: plotly in d:\\anaconda3\\lib\\site-packages (5.8.0)\n",
      "Requirement already satisfied: tenacity>=6.2.0 in d:\\anaconda3\\lib\\site-packages (from plotly) (8.0.1)\n"
     ]
    }
   ],
   "source": [
    "!pip install plotly"
   ]
  },
  {
   "cell_type": "code",
   "execution_count": 3,
   "id": "28bf917b-e757-4223-aca2-fcfed861809f",
   "metadata": {},
   "outputs": [],
   "source": [
    "# Imports\n",
    "import pandas as pd\n",
    "import plotly.express as px"
   ]
  },
  {
   "cell_type": "code",
   "execution_count": 4,
   "id": "16a9b356-2246-411c-b0d3-a76b5eb1e1dd",
   "metadata": {
    "executionInfo": {
     "elapsed": 30,
     "status": "ok",
     "timestamp": 1651585193724,
     "user": {
      "displayName": "Laura Bosco Romero",
      "userId": "09918767640630398267"
     },
     "user_tz": -120
    },
    "id": "16a9b356-2246-411c-b0d3-a76b5eb1e1dd"
   },
   "outputs": [],
   "source": [
    "# Data file import\n",
    "# Source https://datos.madrid.es/egob/catalogo/208327-1-transporte-bicicletas-bicimad.csv\n",
    "path = \"../data/\"\n",
    "datos = pd.read_csv(path + \"bases_bicimad.csv\", sep = \";\")"
   ]
  },
  {
   "cell_type": "code",
   "execution_count": 5,
   "id": "49cf3aaa-1069-4ed2-919b-30aac754747d",
   "metadata": {
    "colab": {
     "base_uri": "https://localhost:8080/",
     "height": 206
    },
    "executionInfo": {
     "elapsed": 26,
     "status": "ok",
     "timestamp": 1651585193725,
     "user": {
      "displayName": "Laura Bosco Romero",
      "userId": "09918767640630398267"
     },
     "user_tz": -120
    },
    "id": "49cf3aaa-1069-4ed2-919b-30aac754747d",
    "outputId": "af0b006e-f81a-4c1d-97c8-fa83b8aadec9"
   },
   "outputs": [
    {
     "data": {
      "text/html": [
       "<div>\n",
       "<style scoped>\n",
       "    .dataframe tbody tr th:only-of-type {\n",
       "        vertical-align: middle;\n",
       "    }\n",
       "\n",
       "    .dataframe tbody tr th {\n",
       "        vertical-align: top;\n",
       "    }\n",
       "\n",
       "    .dataframe thead th {\n",
       "        text-align: right;\n",
       "    }\n",
       "</style>\n",
       "<table border=\"1\" class=\"dataframe\">\n",
       "  <thead>\n",
       "    <tr style=\"text-align: right;\">\n",
       "      <th></th>\n",
       "      <th>Número</th>\n",
       "      <th>Gis_X</th>\n",
       "      <th>Gis_Y</th>\n",
       "      <th>Fecha de Alta</th>\n",
       "      <th>Distrito</th>\n",
       "      <th>Barrio</th>\n",
       "      <th>Calle</th>\n",
       "      <th>Nº Finca</th>\n",
       "      <th>Tipo de Reserva</th>\n",
       "      <th>Número de Plazas</th>\n",
       "      <th>Longitud</th>\n",
       "      <th>Latitud</th>\n",
       "      <th>Direccion</th>\n",
       "    </tr>\n",
       "  </thead>\n",
       "  <tbody>\n",
       "    <tr>\n",
       "      <th>0</th>\n",
       "      <td>001 a</td>\n",
       "      <td>440443,61</td>\n",
       "      <td>4474290,65</td>\n",
       "      <td>43803</td>\n",
       "      <td>01  CENTRO</td>\n",
       "      <td>01-06 SOL</td>\n",
       "      <td>ALCALA, CALLE, DE</td>\n",
       "      <td>2</td>\n",
       "      <td>BiciMAD</td>\n",
       "      <td>30</td>\n",
       "      <td>-3.701998</td>\n",
       "      <td>40.417111</td>\n",
       "      <td>ALCALA, CALLE, DE, 2</td>\n",
       "    </tr>\n",
       "    <tr>\n",
       "      <th>1</th>\n",
       "      <td>001 b</td>\n",
       "      <td>440480,56</td>\n",
       "      <td>4474301,74</td>\n",
       "      <td>43867</td>\n",
       "      <td>01  CENTRO</td>\n",
       "      <td>01-06 SOL</td>\n",
       "      <td>ALCALA, CALLE, DE</td>\n",
       "      <td>6</td>\n",
       "      <td>BiciMAD</td>\n",
       "      <td>30</td>\n",
       "      <td>-3.701564</td>\n",
       "      <td>40.417213</td>\n",
       "      <td>ALCALA, CALLE, DE, 6</td>\n",
       "    </tr>\n",
       "    <tr>\n",
       "      <th>2</th>\n",
       "      <td>2</td>\n",
       "      <td>440134,83</td>\n",
       "      <td>4474678,23</td>\n",
       "      <td>41813</td>\n",
       "      <td>01  CENTRO</td>\n",
       "      <td>01-05 UNIVERSIDAD</td>\n",
       "      <td>MIGUEL MOYA, CALLE, DE</td>\n",
       "      <td>1</td>\n",
       "      <td>BiciMAD</td>\n",
       "      <td>24</td>\n",
       "      <td>-3.705674</td>\n",
       "      <td>40.420580</td>\n",
       "      <td>MIGUEL MOYA, CALLE, DE, 1</td>\n",
       "    </tr>\n",
       "    <tr>\n",
       "      <th>3</th>\n",
       "      <td>3</td>\n",
       "      <td>440012,98</td>\n",
       "      <td>4475760,68</td>\n",
       "      <td>41813</td>\n",
       "      <td>07  CHAMBERÍ</td>\n",
       "      <td>07-02 ARAPILES</td>\n",
       "      <td>CONDE DEL VALLE DE SUCHIL, PLAZA, DEL</td>\n",
       "      <td>2</td>\n",
       "      <td>BiciMAD</td>\n",
       "      <td>18</td>\n",
       "      <td>-3.707212</td>\n",
       "      <td>40.430322</td>\n",
       "      <td>CONDE DEL VALLE DE SUCHIL, PLAZA, DEL, 2</td>\n",
       "    </tr>\n",
       "    <tr>\n",
       "      <th>4</th>\n",
       "      <td>4</td>\n",
       "      <td>440396,4</td>\n",
       "      <td>4475565,36</td>\n",
       "      <td>41813</td>\n",
       "      <td>01  CENTRO</td>\n",
       "      <td>01-05 UNIVERSIDAD</td>\n",
       "      <td>MANUELA MALASAÑA, CALLE, DE</td>\n",
       "      <td>3</td>\n",
       "      <td>BiciMAD</td>\n",
       "      <td>24</td>\n",
       "      <td>-3.702674</td>\n",
       "      <td>40.428590</td>\n",
       "      <td>MANUELA MALASAÑA, CALLE, DE, 3</td>\n",
       "    </tr>\n",
       "  </tbody>\n",
       "</table>\n",
       "</div>"
      ],
      "text/plain": [
       "  Número      Gis_X       Gis_Y  Fecha de Alta      Distrito  \\\n",
       "0  001 a  440443,61  4474290,65          43803    01  CENTRO   \n",
       "1  001 b  440480,56  4474301,74          43867    01  CENTRO   \n",
       "2      2  440134,83  4474678,23          41813    01  CENTRO   \n",
       "3      3  440012,98  4475760,68          41813  07  CHAMBERÍ   \n",
       "4      4   440396,4  4475565,36          41813    01  CENTRO   \n",
       "\n",
       "              Barrio                                  Calle Nº Finca  \\\n",
       "0          01-06 SOL                      ALCALA, CALLE, DE        2   \n",
       "1          01-06 SOL                      ALCALA, CALLE, DE        6   \n",
       "2  01-05 UNIVERSIDAD                 MIGUEL MOYA, CALLE, DE        1   \n",
       "3     07-02 ARAPILES  CONDE DEL VALLE DE SUCHIL, PLAZA, DEL        2   \n",
       "4  01-05 UNIVERSIDAD            MANUELA MALASAÑA, CALLE, DE        3   \n",
       "\n",
       "  Tipo de Reserva  Número de Plazas  Longitud    Latitud  \\\n",
       "0         BiciMAD                30 -3.701998  40.417111   \n",
       "1         BiciMAD                30 -3.701564  40.417213   \n",
       "2         BiciMAD                24 -3.705674  40.420580   \n",
       "3         BiciMAD                18 -3.707212  40.430322   \n",
       "4         BiciMAD                24 -3.702674  40.428590   \n",
       "\n",
       "                                  Direccion  \n",
       "0                      ALCALA, CALLE, DE, 2  \n",
       "1                      ALCALA, CALLE, DE, 6  \n",
       "2                 MIGUEL MOYA, CALLE, DE, 1  \n",
       "3  CONDE DEL VALLE DE SUCHIL, PLAZA, DEL, 2  \n",
       "4            MANUELA MALASAÑA, CALLE, DE, 3  "
      ]
     },
     "execution_count": 5,
     "metadata": {},
     "output_type": "execute_result"
    }
   ],
   "source": [
    "# Data sample\n",
    "df = pd.DataFrame(datos)\n",
    "df.head()"
   ]
  },
  {
   "cell_type": "markdown",
   "id": "5d358674-be60-4561-9779-c24ece850d8b",
   "metadata": {
    "id": "5d358674-be60-4561-9779-c24ece850d8b"
   },
   "source": [
    "# Exercise 1 (3pts)\n",
    "Using Plotly, create a map to visualize the BiciMad stations.<br/>\n",
    "*   Hovering the mouse over a station will show the address, the number of places and the geographical coordinates.\n",
    "*   The size of the point will depend on the number of squares.\n",
    "\n",
    "For the data, you must use the file bases_bicimad.csv, available at:<br/>\n",
    "https://datos.madrid.es/portal/site/egob/menuitem.c05c1f754a33a9fbe4b2e4b284f1a5a0/?vgnextoid=e9b2a4059b4b7410VgnVCM2000000c205a0aRCRD&vgnextchannel=374512b9ace9f310VgnVCM100000171f5a0aRCRD&vgnextfmt=default"
   ]
  },
  {
   "cell_type": "code",
   "execution_count": 9,
   "id": "vYwNU0XKnIV4",
   "metadata": {
    "colab": {
     "base_uri": "https://localhost:8080/",
     "height": 817
    },
    "executionInfo": {
     "elapsed": 262,
     "status": "ok",
     "timestamp": 1651585267467,
     "user": {
      "displayName": "Laura Bosco Romero",
      "userId": "09918767640630398267"
     },
     "user_tz": -120
    },
    "id": "vYwNU0XKnIV4",
    "outputId": "142663f6-c0a6-4aa2-b777-93395bfd5d92"
   },
   "outputs": [
    {
     "data": {
      "application/vnd.plotly.v1+json": {
       "config": {
        "plotlyServerURL": "https://plot.ly"
       },
       "data": [
        {
         "customdata": [
          [
           "ALCALA, CALLE, DE, 2",
           30
          ],
          [
           "ALCALA, CALLE, DE, 6",
           30
          ],
          [
           "MIGUEL MOYA, CALLE, DE, 1",
           24
          ],
          [
           "CONDE DEL VALLE DE SUCHIL, PLAZA, DEL, 2",
           18
          ],
          [
           "MANUELA MALASAÑA, CALLE, DE, 3",
           24
          ],
          [
           "FUENCARRAL, CALLE, DE, 106",
           27
          ],
          [
           "HORTALEZA, CALLE, DE, 63",
           24
          ],
          [
           "HORTALEZA, CALLE, DE, 75",
           21
          ],
          [
           "ALONSO MARTINEZ, PLAZA, DE, 6",
           24
          ],
          [
           "SAN MIGUEL, PLAZA, DE, 9",
           24
          ],
          [
           "MARQUES DE LA ENSENADA, CALLE, DEL, 16",
           24
          ],
          [
           "SAN ANDRES, CALLE, DE, 20",
           24
          ],
          [
           "SAN BERNARDO, CALLE, DE, 87",
           24
          ],
          [
           "CONDE DUQUE, CALLE, DEL, 22",
           24
          ],
          [
           "VENTURA RODRIGUEZ, CALLE, DE, 1",
           24
          ],
          [
           "NORTE, CALLE, DEL, 10",
           21
          ],
          [
           "SAN BERNARDO, CALLE, DE, 22",
           21
          ],
          [
           "CARLOS CAMBRONERO, PLAZA, DE, 2",
           24
          ],
          [
           "PEDRO ZEROLO, PLAZA, DE, 1",
           24
          ],
          [
           "PRIM, CALLE, DE, 4",
           24
          ],
          [
           "ALCALA, CALLE, DE, 49",
           24
          ],
          [
           "ALCALA, CALLE, DE, 49",
           6
          ],
          [
           "JACOMETREZO, CALLE, DE, 1",
           24
          ],
          [
           "SANTO DOMINGO, PLAZA, DE, S/N",
           24
          ],
          [
           "CARLOS III, CALLE, DE, 1",
           24
          ],
          [
           "CELENQUE, PLAZA, DEL, 1",
           24
          ],
          [
           "CELENQUE, PLAZA, DEL, 1",
           24
          ],
          [
           "SALESAS, PLAZA, DE LAS, 8",
           24
          ],
          [
           "JESUS, CALLE, DE, frente 6",
           27
          ],
          [
           "ALCALA, CALLE, DE, 26",
           24
          ],
          [
           "MARQUES DE CUBAS, CALLE, DEL, 25",
           24
          ],
          [
           "PAVIA, CALLE, DE, 6",
           27
          ],
          [
           "MAYOR, CALLE, 18",
           27
          ],
          [
           "PROVINCIA, PLAZA, DE LA, 1",
           18
          ],
          [
           "CARRETAS, CALLE, DE LAS, 3",
           21
          ],
          [
           "JACINTO BENAVENTE, PLAZA, DE, S/N",
           24
          ],
          [
           "CORDON, PLAZA, DEL, 1",
           24
          ],
          [
           "RAMALES, PLAZA, DE, 5",
           24
          ],
          [
           "SAN FRANCISCO, PLAZA, DE, 5",
           24
          ],
          [
           "SAN FRANCISCO, CARRERA, DE, 1",
           24
          ],
          [
           "CEBADA, PLAZA, DE LA, 16",
           27
          ],
          [
           "CONDE DE ROMANONES, CALLE, DEL, 2",
           24
          ],
          [
           "ATOCHA, CALLE, DE, 56",
           18
          ],
          [
           "SANTA ISABEL, CALLE, DE, 32",
           24
          ],
          [
           "LAVAPIES, CALLE, DE, 36",
           24
          ],
          [
           "MESON DE PAREDES, CALLE, DEL, 35",
           21
          ],
          [
           "PUERTA DE TOLEDO, GLORIETA, DE LA, 1",
           21
          ],
          [
           "RIBERA DE CURTIDORES, CALLE, DE LA, 28",
           24
          ],
          [
           "EMBAJADORES, GLORIETA, DE, 7 B",
           24
          ],
          [
           "EMBAJADORES, GLORIETA, DE, 2",
           24
          ],
          [
           "ATOCHA, RONDA, DE, 36",
           24
          ],
          [
           "SANTA ISABEL, CALLE, DE, 57",
           24
          ],
          [
           "EMPERADOR CARLOS V, PLAZA, DEL, 7",
           27
          ],
          [
           "SANTA ANA, PLAZA, DE, 9",
           24
          ],
          [
           "VALENCIA, CALLE, DE, frente 2",
           24
          ],
          [
           "BARCELO, CALLE, DE, 7",
           21
          ],
          [
           "SAN ILDEFONSO, PLAZA, DE, 8",
           24
          ],
          [
           "CARMEN, PLAZA, DEL, 1",
           24
          ],
          [
           "SANTA CRUZ DE MARCENADO, CALLE, DE, 24",
           24
          ],
          [
           "AUGUSTO FIGUEROA, CALLE, DE, 33",
           24
          ],
          [
           "ESPIRITU SANTO, CALLE, DEL, 30",
           21
          ],
          [
           "INDEPENDENCIA, PLAZA, DE LA, 7",
           24
          ],
          [
           "O'DONNELL, CALLE, DE, 30",
           24
          ],
          [
           "O'DONNELL, CALLE, DE, 48",
           24
          ],
          [
           "IBIZA, CALLE, DE, 64",
           24
          ],
          [
           "ANTONIO MAURA, CALLE, DE, 15",
           24
          ],
          [
           "ALMADEN, CALLE, DE, 28",
           24
          ],
          [
           "ESPALTER, CALLE, DE, 1",
           21
          ],
          [
           "ALFONSO XII, CALLE, DE, 54",
           27
          ],
          [
           "MENENDEZ PELAYO, AVENIDA, DE, frente 63",
           24
          ],
          [
           "DOCE DE OCTUBRE, CALLE, DEL, 28",
           24
          ],
          [
           "DOCTOR ESQUERDO, CALLE, DEL, 62",
           24
          ],
          [
           "ASTROS, PLAZA, DE LOS, S/N",
           24
          ],
          [
           "MENENDEZ PELAYO, AVENIDA, DE, S/N",
           24
          ],
          [
           "MENENDEZ PELAYO, AVENIDA, DE, S/N",
           24
          ],
          [
           "MEDITERRANEO, AVENIDA, DEL, 19",
           24
          ],
          [
           "CONDE DE CASAL, PLAZA, DEL, 8",
           22
          ],
          [
           "CERRO DE LA PLATA, CALLE, DEL, 2",
           24
          ],
          [
           "MENENDEZ PELAYO, AVENIDA, DE, 38",
           24
          ],
          [
           "CIUDAD DE BARCELONA, AVENIDA, DE LA, S/N",
           24
          ],
          [
           "CIUDAD DE BARCELONA, AVENIDA, DE LA, S/N",
           27
          ],
          [
           "CLAUDIO MOYANO, CALLE, DE, S/N",
           24
          ],
          [
           "LIRA, CALLE, DE LA, frente 2",
           24
          ],
          [
           "PIO BAROJA, CALLE, DE, 8 B",
           24
          ],
          [
           "DOCTOR ESQUERDO, CALLE, DEL, 191",
           24
          ],
          [
           "MENENDEZ PELAYO, AVENIDA, DE, frente 9",
           27
          ],
          [
           "PRADO, PASEO, DEL, S/N",
           21
          ],
          [
           "AYALA, CALLE, DE, 44",
           24
          ],
          [
           "VELAZQUEZ, CALLE, DE, 73",
           24
          ],
          [
           "AYALA, CALLE, DE, 102",
           24
          ],
          [
           "GOYA, CALLE, DE, 18",
           24
          ],
          [
           "GOYA, CALLE, DE, 20",
           6
          ],
          [
           "HERMOSILLA, CALLE, DE, 73",
           24
          ],
          [
           "CLAUDIO COELLO, CALLE, DE, 45",
           24
          ],
          [
           "GOYA, CALLE, DE, 3",
           24
          ],
          [
           "RECOLETOS, PASEO, DE, 22",
           21
          ],
          [
           "CLAUDIO COELLO, CALLE, DE, 19",
           24
          ],
          [
           "ALCALA, CALLE, DE, 111",
           27
          ],
          [
           "MENENDEZ PELAYO, AVENIDA, DE, 1",
           27
          ],
          [
           "FELIPE II, AVENIDA, DE, 5",
           24
          ],
          [
           "ALCANTARA, CALLE, DE, 2",
           24
          ],
          [
           "GOYA, CALLE, DE, 99",
           24
          ],
          [
           "JORGE JUAN, CALLE, DE, 131",
           24
          ],
          [
           "ALCALA, CALLE, DE, 95",
           24
          ],
          [
           "JOSE ORTEGA Y GASSET, CALLE, DE, 4",
           24
          ],
          [
           "CASTELLANA, PASEO, DE LA, 4",
           21
          ],
          [
           "SERRANO, CALLE, DE, 46",
           24
          ],
          [
           "SERRANO, CALLE, DE, 32",
           18
          ],
          [
           "SERRANO, CALLE, DE, 34",
           18
          ],
          [
           "SERRANO, CALLE, DE, 8",
           24
          ],
          [
           "MARTIRES CONCEPCIONISTAS, CALLE, DE LAS, 2",
           27
          ],
          [
           "JOSE ORTEGA Y GASSET, CALLE, DE, 32",
           24
          ],
          [
           "MORET, PASEO, DE, S/N",
           24
          ],
          [
           "ARCIPRESTE DE HITA, CALLE, DEL, 8",
           24
          ],
          [
           "ARCIPRESTE DE HITA, CALLE, DEL, 12",
           24
          ],
          [
           "MORET, PASEO, DE, 11",
           24
          ],
          [
           "PINTOR ROSALES, PASEO, DEL, frente 38",
           24
          ],
          [
           "QUINTANA, CALLE, DE, 13",
           24
          ],
          [
           "MARQUES DE CERRALBO, PLAZA, DEL, S/N",
           24
          ],
          [
           "ESPAÑA, PLAZA, DE, S/N",
           24
          ],
          [
           "ESPAÑA, PLAZA, DE, S/N",
           24
          ],
          [
           "ALTAMIRANO, CALLE, DE, 24",
           24
          ],
          [
           "JUAN MARTIN EL EMPECINADO, CALLE, DE, 16",
           24
          ],
          [
           "MENDEZ ALVARO, CALLE, DE, 7",
           24
          ],
          [
           "PALOS DE LA FRONTERA, CALLE, DE, frente 27",
           24
          ],
          [
           "SANTA MARIA DE LA CABEZA, PASEO, DE, 58",
           24
          ],
          [
           "SANTA ENGRACIA, CALLE, DE, 16",
           24
          ],
          [
           "GUZMAN EL BUENO, CALLE, DE, 2",
           24
          ],
          [
           "MANUEL SILVELA, CALLE, DE, 18",
           24
          ],
          [
           "FERNANDEZ DE LA HOZ, CALLE, DE, 29",
           24
          ],
          [
           "GENERAL ALVAREZ DE CASTRO, CALLE, DEL, 4",
           24
          ],
          [
           "FERNANDO EL CATOLICO, CALLE, DE, 19",
           24
          ],
          [
           "CEA BERMUDEZ, CALLE, DE, 59",
           24
          ],
          [
           "CEA BERMUDEZ, CALLE, DE, 59",
           3
          ],
          [
           "JOSE ABASCAL, CALLE, DE, 33",
           24
          ],
          [
           "SANTA ENGRACIA, CALLE, DE, 129",
           20
          ],
          [
           "BRAVO MURILLO, CALLE, DE, 44",
           24
          ],
          [
           "SANTA ENGRACIA, CALLE, DE, 168",
           24
          ],
          [
           "DULCINEA, CALLE, DE, 3",
           24
          ],
          [
           "MARIA DE GUZMAN, CALLE, DE, 58",
           24
          ],
          [
           "SAN JUAN DE LA CRUZ, PLAZA, DE, S/N",
           24
          ],
          [
           "CASTELLANA, PASEO, DE LA, 106",
           24
          ],
          [
           "REPUBLICA ARGENTINA, PLAZA, DE LA, 6",
           24
          ],
          [
           "CASTELLANA, PASEO, DE LA, frente 108",
           24
          ],
          [
           "JOSE GUTIERREZ ABASCAL, CALLE, DE, S/N",
           24
          ],
          [
           "VELAZQUEZ, CALLE, DE, 134",
           24
          ],
          [
           "VELAZQUEZ, CALLE, DE, 134",
           3
          ],
          [
           "CASTELLANA, PASEO, DE LA, 43",
           12
          ],
          [
           "CASTELLANA, PASEO, DE LA, S/N",
           24
          ],
          [
           "DIEGO DE LEON, CALLE, DE, 54",
           24
          ],
          [
           "JUAN BRAVO, CALLE, DE, 50",
           24
          ],
          [
           "JOSE ORTEGA Y GASSET, CALLE, DE, 87",
           24
          ],
          [
           "MARIA FRANCISCA, CALLE, DE, 1",
           18
          ],
          [
           "DOCTOR ARCE, AVENIDA, DEL, 45",
           24
          ],
          [
           "SERRANO, CALLE, DE, 210",
           24
          ],
          [
           "LA HABANA, PASEO, DE, 42",
           24
          ],
          [
           "CASTELLANA, PASEO, DE LA, S/N",
           24
          ],
          [
           "ORENSE, CALLE, DE, 10",
           24
          ],
          [
           "GENERAL PERON, AVENIDA, DEL, frente 4",
           24
          ],
          [
           "GENERAL PERON, AVENIDA, DEL, frente 36",
           24
          ],
          [
           "ORENSE, CALLE, DE, 36",
           24
          ],
          [
           "SAN GERMÁN, CALLE, DE, 55",
           24
          ],
          [
           "SOR ANGELA DE LA CRUZ, CALLE, DE, 2",
           24
          ],
          [
           "CASTELLANA, PASEO, DE LA, S/N",
           24
          ],
          [
           "ALBERTO ALCOCER, AVENIDA, DE, 22 A",
           24
          ],
          [
           "LA HABANA, PASEO, DE, 63",
           24
          ],
          [
           "COLOMBIA, CALLE, DE, 7",
           24
          ],
          [
           "FLORIDA, PASEO, DE LA, 8",
           24
          ],
          [
           "FLORIDA, PASEO, DE LA, 6",
           3
          ],
          [
           "OLMOS, PASEO, DE LOS, 28",
           24
          ],
          [
           "ESPERANZA, PASEO, DE LA, 0,0833333333333333",
           21
          ],
          [
           "DELICIAS, PASEO, DE LAS, 94",
           24
          ],
          [
           "CHOPERA, PASEO, DE LA, frente 49",
           27
          ],
          [
           "SEGOVIA, CALLE, DE, 21",
           24
          ],
          [
           "SEGOVIA, CALLE, DE, 47 A",
           24
          ],
          [
           "SANTA MARIA DE LA CABEZA, PASEO, DE, frente 32",
           24
          ],
          [
           "TOLEDO, CALLE, DE, 181",
           24
          ],
          [
           "ESPERANZA, PASEO, DE LA, 21",
           24
          ],
          [
           "EMBAJADORES, CALLE, DE, 97",
           24
          ],
          [
           "BUSTAMANTE, CALLE, DE, 1",
           24
          ],
          [
           "ESPERANZA, PASEO, DE LA, 59",
           24
          ],
          [
           "YESERIAS, PASEO, DE LAS, 8",
           27
          ],
          [
           "JAIME EL CONQUISTADOR, CALLE, DE, 30",
           21
          ],
          [
           "ALICANTE, CALLE, DE, 3",
           24
          ],
          [
           "BOLIVAR, CALLE, DE, 3",
           24
          ],
          [
           "LEON GIL DE PALACIO, CALLE, DE, 1",
           24
          ],
          [
           "M-30, AUTOVIA, S/N",
           24
          ],
          [
           "RETAMA, CALLE, DE LA, 5",
           24
          ],
          [
           "IBIZA, CALLE, DE, 18",
           27
          ],
          [
           "ALCALDE SAINZ DE BARANDA, CALLE, DEL, 90",
           24
          ],
          [
           "HERMOSILLA, CALLE, DE, 135",
           24
          ],
          [
           "MARQUES DE ZAFRA, PASEO, DEL, 24",
           24
          ],
          [
           "MARQUES DE ZAFRA, GLORIETA, DEL, frente 4",
           24
          ],
          [
           "GENERAL PARDIÑAS, CALLE, DEL, 56",
           24
          ],
          [
           "ALEJANDRO GONZALEZ, CALLE, DE, 1",
           24
          ],
          [
           "DAROCA, AVENIDA, DE, 2",
           27
          ],
          [
           "VIRGEN DE LA ALEGRIA, CALLE, DE LA, 18",
           24
          ],
          [
           "VELAZQUEZ, CALLE, DE, 91",
           24
          ],
          [
           "ALONSO HEREDIA, CALLE, DE, 1",
           18
          ],
          [
           "TOREROS, AVENIDA, DE LOS, 3",
           27
          ],
          [
           "TOREROS, AVENIDA, DE LOS, 47",
           24
          ],
          [
           "FRANCISCO SILVELA, CALLE, DE, 86",
           24
          ],
          [
           "PADRE INDALECIO HERNANDEZ, CALLE, DEL, 1",
           24
          ],
          [
           "SUERO DE QUIÑONES, CALLE, DE, 2",
           24
          ],
          [
           "CONCHA ESPINA, AVENIDA, DE, S/N",
           24
          ],
          [
           "RUBEN DARIO, GLORIETA, DE, 2",
           24
          ],
          [
           "FERNANDO EL CATOLICO, CALLE, DE, 61",
           27
          ],
          [
           "QUEVEDO, GLORIETA, DE, frente 4",
           24
          ],
          [
           "JOSE ABASCAL, CALLE, DE, frente al 2",
           24
          ],
          [
           "SANTANDER, CALLE, DE, S/N",
           24
          ],
          [
           "GENERAL AMPUDIA, CALLE, DEL, 2",
           24
          ],
          [
           "DOCTOR SANTERO, CALLE, DEL, 1",
           24
          ],
          [
           "NAVARRA, CALLE, DE, 1",
           24
          ],
          [
           "MARQUES DE VIANA, CALLE, DEL, 5",
           24
          ],
          [
           "AZUCENAS, CALLE, DE LAS, 1",
           18
          ],
          [
           "CASTELLANA, PASEO, DE LA, S/N",
           24
          ],
          [
           "CASTILLA, PLAZA, DE, 9",
           24
          ],
          [
           "TRES CRUCES, CALLE, DE LAS, 9",
           27
          ],
          [
           "DESENGAÑO, CALLE, DEL, 3",
           24
          ],
          [
           "MARQUES DE VADILLO, GLORIETA, DEL, 9",
           24
          ],
          [
           "ANTONIO LOPEZ, CALLE, DE, 129",
           24
          ],
          [
           "CONDESA DE VENADITO, CALLE, DE LA, 2",
           24
          ],
          [
           "GUTIERRE DE CETINA, CALLE, DE, 77",
           24
          ],
          [
           "PUERTA DEL ANGEL, PLAZA, DE LA, 3",
           24
          ],
          [
           "PEDRO RICO, CALLE, DE, frente al 4",
           24
          ],
          [
           "CAMINO DE LOS VINATEROS, CALLE, DEL, 28",
           24
          ],
          [
           "CAMINO DE LOS VINATEROS, CALLE, DEL, 108",
           24
          ],
          [
           "ARROYO DE LAS PILILLAS, CALLE, DEL, frente al 4",
           24
          ],
          [
           "HACIENDA DE PAVONES, CALLE, DE LA, 346",
           24
          ],
          [
           "EUGENIO CAXES, CALLE, DE, 5",
           24
          ],
          [
           "ERMITA DEL SANTO, PASEO, DE LA, 48",
           24
          ],
          [
           "CARAMUEL, CALLE, DE, frente al 52",
           24
          ],
          [
           "SIERRA TOLEDANA, CALLE, DE LA, 33",
           24
          ],
          [
           "VALDERRIBAS, CAMINO, DE, 94",
           24
          ],
          [
           "ARROYO DEL OLIVAR, CALLE, DEL, 4",
           24
          ],
          [
           "SAN DELFIN, CALLE, DE, 9",
           24
          ],
          [
           "JOSE DEL HIERRO, CALLE, DE, 5",
           24
          ],
          [
           "CARLOTA O'NEILL, CALLE, DE, 32",
           24
          ],
          [
           "DERECHOS HUMANOS, CALLE, DE LOS, 14",
           24
          ],
          [
           "JOSE MARIA PEREDA, CALLE, DE, 1",
           24
          ],
          [
           "MARQUES DE CORBERA, AVENIDA, DEL, 12",
           24
          ],
          [
           "MARQUES DE CORBERA, AVENIDA, DEL, 52",
           24
          ],
          [
           "SODIO, CALLE, DEL, 1 B",
           24
          ],
          [
           "IMPERIAL, PASEO, 20",
           24
          ],
          [
           "FRANCISCO BALSEIRO, CALLE, DE, S/N",
           24
          ],
          [
           "SAN GERMÁN, CALLE, DE, 5",
           24
          ],
          [
           "FRANCOS RODRIGUEZ, CALLE, DE, 62",
           24
          ],
          [
           "BRASILIA, AVENIDA, DE, frente al 9",
           24
          ],
          [
           "CAMILO JOSE CELA, AVENIDA, DE, 23",
           24
          ],
          [
           "BRUSELAS, AVENIDA, DE, 56",
           24
          ],
          [
           "CARTAGENA, CALLE, DE, 38",
           24
          ],
          [
           "ISAAC PERAL, CALLE, DE, 44",
           24
          ],
          [
           "GALILEO, CALLE, DE, 63",
           24
          ],
          [
           "SANTA ENGRACIA, CALLE, DE, 87",
           24
          ],
          [
           "ZURBANO, CALLE, DE, 90",
           24
          ],
          [
           "SINESIO DELGADO, CALLE, DE, 2",
           24
          ],
          [
           "CASTELLANA, PASEO, DE LA, frente al 298",
           24
          ],
          [
           "SERRANO, CALLE, DE, 113 b",
           24
          ],
          [
           "SANTA HORTENSIA, CALLE, DE, 31",
           24
          ],
          [
           "RODRIGUEZ JAEN, CALLE, DE, S/N",
           24
          ],
          [
           "DOCTOR FLEMING, CALLE, DEL, 7",
           24
          ],
          [
           "PIO XII, AVENIDA, DE, 3",
           24
          ],
          [
           "GENERAL LOPEZ POZAS, CALLE, DEL, 2",
           24
          ],
          [
           "BEATRIZ DE BOBADILLA, CALLE, DE, frente al 2",
           24
          ],
          [
           "JUAN DE HERRERA, AVENIDA, DE, 1",
           24
          ],
          [
           "COMPLUTENSE, AVENIDA, frente al 14",
           24
          ],
          [
           "RAMON Y CAJAL, PLAZA, DE, S/N",
           24
          ],
          [
           "JOSE ANTONIO NOVAIS, CALLE, DE, S/N",
           24
          ],
          [
           "COMPLUTENSE, AVENIDA, frente al 7",
           24
          ]
         ],
         "hovertemplate": "Seating capacity=%{customdata[1]}<br>Latitude=%{lat}<br>Longitude=%{lon}<br>Address=%{customdata[0]}<extra></extra>",
         "lat": [
          40.4171107,
          40.4172132,
          40.42058,
          40.4303224,
          40.4285905,
          40.428362,
          40.4241633,
          40.4252161,
          40.4277143,
          40.4156134,
          40.4254027,
          40.4270517,
          40.4285271,
          40.4273652,
          40.4259913,
          40.4262937,
          40.4229421,
          40.4231675,
          40.4209206,
          40.4218997,
          40.4191989,
          40.4191858,
          40.4201452,
          40.4202137,
          40.417906,
          40.4173416,
          40.4172593,
          40.4238308,
          40.4132831,
          40.4180695,
          40.416244,
          40.4193355,
          40.4163446,
          40.4148511,
          40.4164757,
          40.4144117,
          40.4141792,
          40.4168229,
          40.4108606,
          40.4112961,
          40.4112662,
          40.4137865,
          40.412228,
          40.4107714,
          40.4100889,
          40.4098162,
          40.4069486,
          40.4054496,
          40.4046233,
          40.4054473,
          40.4060497,
          40.4083102,
          40.4077234,
          40.4145181,
          40.4082802,
          40.4266233,
          40.4240716,
          40.418484,
          40.4296363,
          40.4222601,
          40.4254802,
          40.4194508,
          40.4214379,
          40.4212986,
          40.4178926,
          40.4166859,
          40.410829,
          40.412781,
          40.4100609,
          40.4152203,
          40.4160054,
          40.415721,
          40.411463,
          40.4117601,
          40.4083387,
          40.4072851,
          40.4063347,
          40.4005704,
          40.4050482,
          40.4074122,
          40.407626,
          40.4095758,
          40.4084793,
          40.4132589,
          40.4033695,
          40.4211415,
          40.4185779,
          40.4276717,
          40.4312077,
          40.4272628,
          40.4250878,
          40.4250791,
          40.4261113,
          40.4262237,
          40.4256984,
          40.4233686,
          40.4226634,
          40.4220516,
          40.4224846,
          40.4241911,
          40.4261048,
          40.4247843,
          40.4231223,
          40.4211552,
          40.4303733,
          40.4267658,
          40.4270684,
          40.4248642,
          40.4250085,
          40.4215952,
          40.4274425,
          40.4301281,
          40.4347654,
          40.4335742,
          40.433982,
          40.4326267,
          40.4277472,
          40.4278211,
          40.4253802,
          40.4240632,
          40.4241889,
          40.4309046,
          40.4007959,
          40.4014567,
          40.4030362,
          40.4018356,
          40.429524,
          40.4306386,
          40.4308173,
          40.4353128,
          40.4345672,
          40.4339055,
          40.4390329,
          40.4390391,
          40.4384684,
          40.4417195,
          40.4417543,
          40.4463889,
          40.4471673,
          40.444027,
          40.4414845,
          40.4452833,
          40.4454958,
          40.4456884,
          40.4393558,
          40.438628,
          40.4385198,
          40.4354253,
          40.4335262,
          40.434616,
          40.4323192,
          40.4297717,
          40.4442406,
          40.4483353,
          40.4510203,
          40.4498448,
          40.4491125,
          40.4488617,
          40.4527163,
          40.45235,
          40.4547769,
          40.4572863,
          40.4592406,
          40.459282,
          40.45862,
          40.4542549,
          40.4571995,
          40.4221372,
          40.4220566,
          40.4035176,
          40.4036349,
          40.3971366,
          40.3928841,
          40.4139396,
          40.4137331,
          40.4045828,
          40.401578,
          40.4011039,
          40.3997626,
          40.4008683,
          40.3981757,
          40.397417,
          40.3962687,
          40.3942411,
          40.3915019,
          40.4030242,
          40.3979341,
          40.3941252,
          40.4181748,
          40.4187145,
          40.4256358,
          40.4260023,
          40.4250682,
          40.429069,
          40.4301353,
          40.4311658,
          40.4350206,
          40.4343761,
          40.4346168,
          40.431855,
          40.4325204,
          40.4371986,
          40.4392483,
          40.4440957,
          40.4515501,
          40.4331172,
          40.4343244,
          40.4336617,
          40.4387323,
          40.4411686,
          40.4417547,
          40.4476606,
          40.4535024,
          40.4607994,
          40.4630291,
          40.4665125,
          40.4656872,
          40.4197538,
          40.4206168,
          40.3981605,
          40.3889363,
          40.4434012,
          40.4296903,
          40.4140528,
          40.4810028,
          40.4105519,
          40.4083961,
          40.4061548,
          40.4004579,
          40.3917816,
          40.4064341,
          40.408882,
          40.4026388,
          40.3991986,
          40.3940355,
          40.3943842,
          40.4370782,
          40.4436986,
          40.439748,
          40.4328362,
          40.4229144,
          40.426163,
          40.3889853,
          40.4074236,
          40.451395,
          40.4562183,
          40.4567345,
          40.4367138,
          40.4377568,
          40.4394662,
          40.4351648,
          40.4398513,
          40.4364656,
          40.436026,
          40.4383672,
          40.4743243,
          40.4794159,
          40.4408151,
          40.444183,
          40.4715645,
          40.455606,
          40.4610436,
          40.4637286,
          40.4463599,
          40.438804,
          40.449019,
          40.4444176,
          40.4482316,
          40.4505032
         ],
         "legendgroup": "",
         "lon": [
          -3.701998,
          -3.7015636,
          -3.7056739,
          -3.7072122,
          -3.7026739,
          -3.7020743,
          -3.6984093,
          -3.6977399,
          -3.6953067,
          -3.7094093,
          -3.6920816,
          -3.7036192,
          -3.7062202,
          -3.7104727,
          -3.7133768,
          -3.7073611,
          -3.7074955,
          -3.7041859,
          -3.6995679,
          -3.6953951,
          -3.6952095,
          -3.6952901,
          -3.7064995,
          -3.7082901,
          -3.7105866,
          -3.7059978,
          -3.7060243,
          -3.6945421,
          -3.6955803,
          -3.6983662,
          -3.6958008,
          -3.7115428,
          -3.706625,
          -3.7061355,
          -3.7032096,
          -3.7035044,
          -3.7103676,
          -3.711764,
          -3.7141234,
          -3.7114443,
          -3.7090043,
          -3.7047463,
          -3.6989898,
          -3.6982294,
          -3.7025446,
          -3.7039138,
          -3.7111381,
          -3.7071178,
          -3.702755,
          -3.7020997,
          -3.6992427,
          -3.69322,
          -3.6935934,
          -3.7007838,
          -3.7007295,
          -3.7003435,
          -3.7019295,
          -3.7032875,
          -3.7128181,
          -3.6979458,
          -3.7041167,
          -3.6881994,
          -3.675206,
          -3.6724223,
          -3.6706508,
          -3.6893825,
          -3.6931349,
          -3.6911649,
          -3.6888669,
          -3.6777994,
          -3.674021,
          -3.669623,
          -3.669099,
          -3.6765768,
          -3.6784149,
          -3.6751544,
          -3.6707742,
          -3.6745783,
          -3.6805524,
          -3.6904816,
          -3.6907238,
          -3.6919663,
          -3.669683,
          -3.6745339,
          -3.6726923,
          -3.6799299,
          -3.6933298,
          -3.6835631,
          -3.6837471,
          -3.6751716,
          -3.6837297,
          -3.6835613,
          -3.6788203,
          -3.6864821,
          -3.6894124,
          -3.6907044,
          -3.6869914,
          -3.6820471,
          -3.6801515,
          -3.6754079,
          -3.6739638,
          -3.6738777,
          -3.6694246,
          -3.6840806,
          -3.6865351,
          -3.6895792,
          -3.6874745,
          -3.6878868,
          -3.6878604,
          -3.6884243,
          -3.670653,
          -3.6815253,
          -3.7201316,
          -3.7174896,
          -3.7177783,
          -3.7248727,
          -3.7207145,
          -3.7174151,
          -3.7169626,
          -3.7117588,
          -3.7118457,
          -3.7189152,
          -3.688135,
          -3.6865777,
          -3.6947791,
          -3.6986046,
          -3.6962626,
          -3.7134685,
          -3.6993182,
          -3.6948316,
          -3.7017424,
          -3.7083987,
          -3.7155506,
          -3.7156915,
          -3.6982818,
          -3.7017071,
          -3.704022,
          -3.7035911,
          -3.7000292,
          -3.6955114,
          -3.6928901,
          -3.6908127,
          -3.6852925,
          -3.6915818,
          -3.6904495,
          -3.6829045,
          -3.6829127,
          -3.6892902,
          -3.6880402,
          -3.6782355,
          -3.6754628,
          -3.671401,
          -3.67879,
          -3.6795811,
          -3.6816993,
          -3.6878512,
          -3.690541,
          -3.6952023,
          -3.6989497,
          -3.6930894,
          -3.6946736,
          -3.700864,
          -3.6913229,
          -3.6893305,
          -3.6847049,
          -3.6837348,
          -3.6766176,
          -3.7220624,
          -3.7219659,
          -3.7107559,
          -3.7064372,
          -3.6944851,
          -3.6976134,
          -3.7133382,
          -3.7176456,
          -3.6959159,
          -3.713846,
          -3.704403,
          -3.6984459,
          -3.6935448,
          -3.7023615,
          -3.7063771,
          -3.6983033,
          -3.6936302,
          -3.694087,
          -3.6788939,
          -3.6690602,
          -3.6759244,
          -3.67664,
          -3.6655023,
          -3.6694506,
          -3.6653095,
          -3.661533,
          -3.6782783,
          -3.6638407,
          -3.6589062,
          -3.6555431,
          -3.6834711,
          -3.6740365,
          -3.6714315,
          -3.665644,
          -3.6771947,
          -3.6754913,
          -3.6750918,
          -3.6780252,
          -3.6915713,
          -3.7148406,
          -3.704671,
          -3.7038161,
          -3.7080969,
          -3.7144239,
          -3.7041702,
          -3.7033408,
          -3.6990499,
          -3.6973991,
          -3.6886852,
          -3.6887875,
          -3.702631,
          -3.7025369,
          -3.7165313,
          -3.7001575,
          -3.6569597,
          -3.6409697,
          -3.7288948,
          -3.6891094,
          -3.6573999,
          -3.6467783,
          -3.6514264,
          -3.6346859,
          -3.7026887,
          -3.7245226,
          -3.7288262,
          -3.6601933,
          -3.6606789,
          -3.6661421,
          -3.7080437,
          -3.6486507,
          -3.6491034,
          -3.6558172,
          -3.6485701,
          -3.655633,
          -3.651125,
          -3.6911834,
          -3.7171449,
          -3.7105146,
          -3.6932474,
          -3.7079276,
          -3.6609886,
          -3.6677796,
          -3.6629058,
          -3.6700894,
          -3.7175468,
          -3.7101726,
          -3.699252,
          -3.692843,
          -3.6878414,
          -3.6852959,
          -3.6861,
          -3.6668532,
          -3.6839094,
          -3.688443,
          -3.6765549,
          -3.6851815,
          -3.7138353,
          -3.73029,
          -3.7273004,
          -3.727031,
          -3.7272637,
          -3.7292576
         ],
         "marker": {
          "color": "#636efa",
          "size": [
           30,
           30,
           24,
           18,
           24,
           27,
           24,
           21,
           24,
           24,
           24,
           24,
           24,
           24,
           24,
           21,
           21,
           24,
           24,
           24,
           24,
           6,
           24,
           24,
           24,
           24,
           24,
           24,
           27,
           24,
           24,
           27,
           27,
           18,
           21,
           24,
           24,
           24,
           24,
           24,
           27,
           24,
           18,
           24,
           24,
           21,
           21,
           24,
           24,
           24,
           24,
           24,
           27,
           24,
           24,
           21,
           24,
           24,
           24,
           24,
           21,
           24,
           24,
           24,
           24,
           24,
           24,
           21,
           27,
           24,
           24,
           24,
           24,
           24,
           24,
           24,
           22,
           24,
           24,
           24,
           27,
           24,
           24,
           24,
           24,
           27,
           21,
           24,
           24,
           24,
           24,
           6,
           24,
           24,
           24,
           21,
           24,
           27,
           27,
           24,
           24,
           24,
           24,
           24,
           24,
           21,
           24,
           18,
           18,
           24,
           27,
           24,
           24,
           24,
           24,
           24,
           24,
           24,
           24,
           24,
           24,
           24,
           24,
           24,
           24,
           24,
           24,
           24,
           24,
           24,
           24,
           24,
           24,
           3,
           24,
           20,
           24,
           24,
           24,
           24,
           24,
           24,
           24,
           24,
           24,
           24,
           3,
           12,
           24,
           24,
           24,
           24,
           18,
           24,
           24,
           24,
           24,
           24,
           24,
           24,
           24,
           24,
           24,
           24,
           24,
           24,
           24,
           24,
           3,
           24,
           21,
           24,
           27,
           24,
           24,
           24,
           24,
           24,
           24,
           24,
           24,
           27,
           21,
           24,
           24,
           24,
           24,
           24,
           27,
           24,
           24,
           24,
           24,
           24,
           24,
           27,
           24,
           24,
           18,
           27,
           24,
           24,
           24,
           24,
           24,
           24,
           27,
           24,
           24,
           24,
           24,
           24,
           24,
           24,
           18,
           24,
           24,
           27,
           24,
           24,
           24,
           24,
           24,
           24,
           24,
           24,
           24,
           24,
           24,
           24,
           24,
           24,
           24,
           24,
           24,
           24,
           24,
           24,
           24,
           24,
           24,
           24,
           24,
           24,
           24,
           24,
           24,
           24,
           24,
           24,
           24,
           24,
           24,
           24,
           24,
           24,
           24,
           24,
           24,
           24,
           24,
           24,
           24,
           24,
           24,
           24,
           24,
           24,
           24
          ],
          "sizemode": "area",
          "sizeref": 0.075
         },
         "mode": "markers",
         "name": "",
         "showlegend": false,
         "subplot": "mapbox",
         "type": "scattermapbox"
        }
       ],
       "layout": {
        "height": 800,
        "legend": {
         "itemsizing": "constant",
         "tracegroupgap": 0
        },
        "mapbox": {
         "center": {
          "lat": 40.42592592973973,
          "lon": -3.692230885130112
         },
         "domain": {
          "x": [
           0,
           1
          ],
          "y": [
           0,
           1
          ]
         },
         "style": "stamen-terrain",
         "zoom": 12
        },
        "margin": {
         "b": 0,
         "l": 0,
         "r": 0,
         "t": 0
        },
        "template": {
         "data": {
          "bar": [
           {
            "error_x": {
             "color": "#2a3f5f"
            },
            "error_y": {
             "color": "#2a3f5f"
            },
            "marker": {
             "line": {
              "color": "#E5ECF6",
              "width": 0.5
             },
             "pattern": {
              "fillmode": "overlay",
              "size": 10,
              "solidity": 0.2
             }
            },
            "type": "bar"
           }
          ],
          "barpolar": [
           {
            "marker": {
             "line": {
              "color": "#E5ECF6",
              "width": 0.5
             },
             "pattern": {
              "fillmode": "overlay",
              "size": 10,
              "solidity": 0.2
             }
            },
            "type": "barpolar"
           }
          ],
          "carpet": [
           {
            "aaxis": {
             "endlinecolor": "#2a3f5f",
             "gridcolor": "white",
             "linecolor": "white",
             "minorgridcolor": "white",
             "startlinecolor": "#2a3f5f"
            },
            "baxis": {
             "endlinecolor": "#2a3f5f",
             "gridcolor": "white",
             "linecolor": "white",
             "minorgridcolor": "white",
             "startlinecolor": "#2a3f5f"
            },
            "type": "carpet"
           }
          ],
          "choropleth": [
           {
            "colorbar": {
             "outlinewidth": 0,
             "ticks": ""
            },
            "type": "choropleth"
           }
          ],
          "contour": [
           {
            "colorbar": {
             "outlinewidth": 0,
             "ticks": ""
            },
            "colorscale": [
             [
              0,
              "#0d0887"
             ],
             [
              0.1111111111111111,
              "#46039f"
             ],
             [
              0.2222222222222222,
              "#7201a8"
             ],
             [
              0.3333333333333333,
              "#9c179e"
             ],
             [
              0.4444444444444444,
              "#bd3786"
             ],
             [
              0.5555555555555556,
              "#d8576b"
             ],
             [
              0.6666666666666666,
              "#ed7953"
             ],
             [
              0.7777777777777778,
              "#fb9f3a"
             ],
             [
              0.8888888888888888,
              "#fdca26"
             ],
             [
              1,
              "#f0f921"
             ]
            ],
            "type": "contour"
           }
          ],
          "contourcarpet": [
           {
            "colorbar": {
             "outlinewidth": 0,
             "ticks": ""
            },
            "type": "contourcarpet"
           }
          ],
          "heatmap": [
           {
            "colorbar": {
             "outlinewidth": 0,
             "ticks": ""
            },
            "colorscale": [
             [
              0,
              "#0d0887"
             ],
             [
              0.1111111111111111,
              "#46039f"
             ],
             [
              0.2222222222222222,
              "#7201a8"
             ],
             [
              0.3333333333333333,
              "#9c179e"
             ],
             [
              0.4444444444444444,
              "#bd3786"
             ],
             [
              0.5555555555555556,
              "#d8576b"
             ],
             [
              0.6666666666666666,
              "#ed7953"
             ],
             [
              0.7777777777777778,
              "#fb9f3a"
             ],
             [
              0.8888888888888888,
              "#fdca26"
             ],
             [
              1,
              "#f0f921"
             ]
            ],
            "type": "heatmap"
           }
          ],
          "heatmapgl": [
           {
            "colorbar": {
             "outlinewidth": 0,
             "ticks": ""
            },
            "colorscale": [
             [
              0,
              "#0d0887"
             ],
             [
              0.1111111111111111,
              "#46039f"
             ],
             [
              0.2222222222222222,
              "#7201a8"
             ],
             [
              0.3333333333333333,
              "#9c179e"
             ],
             [
              0.4444444444444444,
              "#bd3786"
             ],
             [
              0.5555555555555556,
              "#d8576b"
             ],
             [
              0.6666666666666666,
              "#ed7953"
             ],
             [
              0.7777777777777778,
              "#fb9f3a"
             ],
             [
              0.8888888888888888,
              "#fdca26"
             ],
             [
              1,
              "#f0f921"
             ]
            ],
            "type": "heatmapgl"
           }
          ],
          "histogram": [
           {
            "marker": {
             "pattern": {
              "fillmode": "overlay",
              "size": 10,
              "solidity": 0.2
             }
            },
            "type": "histogram"
           }
          ],
          "histogram2d": [
           {
            "colorbar": {
             "outlinewidth": 0,
             "ticks": ""
            },
            "colorscale": [
             [
              0,
              "#0d0887"
             ],
             [
              0.1111111111111111,
              "#46039f"
             ],
             [
              0.2222222222222222,
              "#7201a8"
             ],
             [
              0.3333333333333333,
              "#9c179e"
             ],
             [
              0.4444444444444444,
              "#bd3786"
             ],
             [
              0.5555555555555556,
              "#d8576b"
             ],
             [
              0.6666666666666666,
              "#ed7953"
             ],
             [
              0.7777777777777778,
              "#fb9f3a"
             ],
             [
              0.8888888888888888,
              "#fdca26"
             ],
             [
              1,
              "#f0f921"
             ]
            ],
            "type": "histogram2d"
           }
          ],
          "histogram2dcontour": [
           {
            "colorbar": {
             "outlinewidth": 0,
             "ticks": ""
            },
            "colorscale": [
             [
              0,
              "#0d0887"
             ],
             [
              0.1111111111111111,
              "#46039f"
             ],
             [
              0.2222222222222222,
              "#7201a8"
             ],
             [
              0.3333333333333333,
              "#9c179e"
             ],
             [
              0.4444444444444444,
              "#bd3786"
             ],
             [
              0.5555555555555556,
              "#d8576b"
             ],
             [
              0.6666666666666666,
              "#ed7953"
             ],
             [
              0.7777777777777778,
              "#fb9f3a"
             ],
             [
              0.8888888888888888,
              "#fdca26"
             ],
             [
              1,
              "#f0f921"
             ]
            ],
            "type": "histogram2dcontour"
           }
          ],
          "mesh3d": [
           {
            "colorbar": {
             "outlinewidth": 0,
             "ticks": ""
            },
            "type": "mesh3d"
           }
          ],
          "parcoords": [
           {
            "line": {
             "colorbar": {
              "outlinewidth": 0,
              "ticks": ""
             }
            },
            "type": "parcoords"
           }
          ],
          "pie": [
           {
            "automargin": true,
            "type": "pie"
           }
          ],
          "scatter": [
           {
            "fillpattern": {
             "fillmode": "overlay",
             "size": 10,
             "solidity": 0.2
            },
            "type": "scatter"
           }
          ],
          "scatter3d": [
           {
            "line": {
             "colorbar": {
              "outlinewidth": 0,
              "ticks": ""
             }
            },
            "marker": {
             "colorbar": {
              "outlinewidth": 0,
              "ticks": ""
             }
            },
            "type": "scatter3d"
           }
          ],
          "scattercarpet": [
           {
            "marker": {
             "colorbar": {
              "outlinewidth": 0,
              "ticks": ""
             }
            },
            "type": "scattercarpet"
           }
          ],
          "scattergeo": [
           {
            "marker": {
             "colorbar": {
              "outlinewidth": 0,
              "ticks": ""
             }
            },
            "type": "scattergeo"
           }
          ],
          "scattergl": [
           {
            "marker": {
             "colorbar": {
              "outlinewidth": 0,
              "ticks": ""
             }
            },
            "type": "scattergl"
           }
          ],
          "scattermapbox": [
           {
            "marker": {
             "colorbar": {
              "outlinewidth": 0,
              "ticks": ""
             }
            },
            "type": "scattermapbox"
           }
          ],
          "scatterpolar": [
           {
            "marker": {
             "colorbar": {
              "outlinewidth": 0,
              "ticks": ""
             }
            },
            "type": "scatterpolar"
           }
          ],
          "scatterpolargl": [
           {
            "marker": {
             "colorbar": {
              "outlinewidth": 0,
              "ticks": ""
             }
            },
            "type": "scatterpolargl"
           }
          ],
          "scatterternary": [
           {
            "marker": {
             "colorbar": {
              "outlinewidth": 0,
              "ticks": ""
             }
            },
            "type": "scatterternary"
           }
          ],
          "surface": [
           {
            "colorbar": {
             "outlinewidth": 0,
             "ticks": ""
            },
            "colorscale": [
             [
              0,
              "#0d0887"
             ],
             [
              0.1111111111111111,
              "#46039f"
             ],
             [
              0.2222222222222222,
              "#7201a8"
             ],
             [
              0.3333333333333333,
              "#9c179e"
             ],
             [
              0.4444444444444444,
              "#bd3786"
             ],
             [
              0.5555555555555556,
              "#d8576b"
             ],
             [
              0.6666666666666666,
              "#ed7953"
             ],
             [
              0.7777777777777778,
              "#fb9f3a"
             ],
             [
              0.8888888888888888,
              "#fdca26"
             ],
             [
              1,
              "#f0f921"
             ]
            ],
            "type": "surface"
           }
          ],
          "table": [
           {
            "cells": {
             "fill": {
              "color": "#EBF0F8"
             },
             "line": {
              "color": "white"
             }
            },
            "header": {
             "fill": {
              "color": "#C8D4E3"
             },
             "line": {
              "color": "white"
             }
            },
            "type": "table"
           }
          ]
         },
         "layout": {
          "annotationdefaults": {
           "arrowcolor": "#2a3f5f",
           "arrowhead": 0,
           "arrowwidth": 1
          },
          "autotypenumbers": "strict",
          "coloraxis": {
           "colorbar": {
            "outlinewidth": 0,
            "ticks": ""
           }
          },
          "colorscale": {
           "diverging": [
            [
             0,
             "#8e0152"
            ],
            [
             0.1,
             "#c51b7d"
            ],
            [
             0.2,
             "#de77ae"
            ],
            [
             0.3,
             "#f1b6da"
            ],
            [
             0.4,
             "#fde0ef"
            ],
            [
             0.5,
             "#f7f7f7"
            ],
            [
             0.6,
             "#e6f5d0"
            ],
            [
             0.7,
             "#b8e186"
            ],
            [
             0.8,
             "#7fbc41"
            ],
            [
             0.9,
             "#4d9221"
            ],
            [
             1,
             "#276419"
            ]
           ],
           "sequential": [
            [
             0,
             "#0d0887"
            ],
            [
             0.1111111111111111,
             "#46039f"
            ],
            [
             0.2222222222222222,
             "#7201a8"
            ],
            [
             0.3333333333333333,
             "#9c179e"
            ],
            [
             0.4444444444444444,
             "#bd3786"
            ],
            [
             0.5555555555555556,
             "#d8576b"
            ],
            [
             0.6666666666666666,
             "#ed7953"
            ],
            [
             0.7777777777777778,
             "#fb9f3a"
            ],
            [
             0.8888888888888888,
             "#fdca26"
            ],
            [
             1,
             "#f0f921"
            ]
           ],
           "sequentialminus": [
            [
             0,
             "#0d0887"
            ],
            [
             0.1111111111111111,
             "#46039f"
            ],
            [
             0.2222222222222222,
             "#7201a8"
            ],
            [
             0.3333333333333333,
             "#9c179e"
            ],
            [
             0.4444444444444444,
             "#bd3786"
            ],
            [
             0.5555555555555556,
             "#d8576b"
            ],
            [
             0.6666666666666666,
             "#ed7953"
            ],
            [
             0.7777777777777778,
             "#fb9f3a"
            ],
            [
             0.8888888888888888,
             "#fdca26"
            ],
            [
             1,
             "#f0f921"
            ]
           ]
          },
          "colorway": [
           "#636efa",
           "#EF553B",
           "#00cc96",
           "#ab63fa",
           "#FFA15A",
           "#19d3f3",
           "#FF6692",
           "#B6E880",
           "#FF97FF",
           "#FECB52"
          ],
          "font": {
           "color": "#2a3f5f"
          },
          "geo": {
           "bgcolor": "white",
           "lakecolor": "white",
           "landcolor": "#E5ECF6",
           "showlakes": true,
           "showland": true,
           "subunitcolor": "white"
          },
          "hoverlabel": {
           "align": "left"
          },
          "hovermode": "closest",
          "mapbox": {
           "style": "light"
          },
          "paper_bgcolor": "white",
          "plot_bgcolor": "#E5ECF6",
          "polar": {
           "angularaxis": {
            "gridcolor": "white",
            "linecolor": "white",
            "ticks": ""
           },
           "bgcolor": "#E5ECF6",
           "radialaxis": {
            "gridcolor": "white",
            "linecolor": "white",
            "ticks": ""
           }
          },
          "scene": {
           "xaxis": {
            "backgroundcolor": "#E5ECF6",
            "gridcolor": "white",
            "gridwidth": 2,
            "linecolor": "white",
            "showbackground": true,
            "ticks": "",
            "zerolinecolor": "white"
           },
           "yaxis": {
            "backgroundcolor": "#E5ECF6",
            "gridcolor": "white",
            "gridwidth": 2,
            "linecolor": "white",
            "showbackground": true,
            "ticks": "",
            "zerolinecolor": "white"
           },
           "zaxis": {
            "backgroundcolor": "#E5ECF6",
            "gridcolor": "white",
            "gridwidth": 2,
            "linecolor": "white",
            "showbackground": true,
            "ticks": "",
            "zerolinecolor": "white"
           }
          },
          "shapedefaults": {
           "line": {
            "color": "#2a3f5f"
           }
          },
          "ternary": {
           "aaxis": {
            "gridcolor": "white",
            "linecolor": "white",
            "ticks": ""
           },
           "baxis": {
            "gridcolor": "white",
            "linecolor": "white",
            "ticks": ""
           },
           "bgcolor": "#E5ECF6",
           "caxis": {
            "gridcolor": "white",
            "linecolor": "white",
            "ticks": ""
           }
          },
          "title": {
           "x": 0.05
          },
          "xaxis": {
           "automargin": true,
           "gridcolor": "white",
           "linecolor": "white",
           "ticks": "",
           "title": {
            "standoff": 15
           },
           "zerolinecolor": "white",
           "zerolinewidth": 2
          },
          "yaxis": {
           "automargin": true,
           "gridcolor": "white",
           "linecolor": "white",
           "ticks": "",
           "title": {
            "standoff": 15
           },
           "zerolinecolor": "white",
           "zerolinewidth": 2
          }
         }
        }
       }
      }
     },
     "metadata": {},
     "output_type": "display_data"
    }
   ],
   "source": [
    "# We rename the columns to see the result in English\n",
    "df = df.rename(columns={\"Direccion\": \"Address\", \"Número de Plazas\": \"Seating capacity\", \"Latitud\": \"Latitude\", \"Longitud\": \"Longitude\"})\n",
    "\n",
    "# We create the map adding the data we want to be displayed\n",
    "fig = px.scatter_mapbox(df, lat=\"Latitude\", lon=\"Longitude\",  zoom=8, height=800, hover_data= [\"Address\", \"Seating capacity\"] , size = \"Seating capacity\")\n",
    "fig.update_layout(mapbox_style=\"stamen-terrain\", mapbox_zoom=12, \n",
    "    margin={\"r\":0,\"t\":0,\"l\":0,\"b\":0})\n",
    "\n",
    "# We show the map\n",
    "fig.show()"
   ]
  }
 ],
 "metadata": {
  "colab": {
   "collapsed_sections": [],
   "name": "LauraBosco_entrega2_1.ipynb",
   "provenance": []
  },
  "kernelspec": {
   "display_name": "Python 3 (ipykernel)",
   "language": "python",
   "name": "python3"
  },
  "language_info": {
   "codemirror_mode": {
    "name": "ipython",
    "version": 3
   },
   "file_extension": ".py",
   "mimetype": "text/x-python",
   "name": "python",
   "nbconvert_exporter": "python",
   "pygments_lexer": "ipython3",
   "version": "3.9.7"
  },
  "vscode": {
   "interpreter": {
    "hash": "49cb93f377a7abe7414b7b0f21fb3017538004a126cf690fb524202736b7fb92"
   }
  }
 },
 "nbformat": 4,
 "nbformat_minor": 5
}
