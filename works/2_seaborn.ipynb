{
 "cells": [
  {
   "cell_type": "code",
   "execution_count": 1,
   "id": "8870bb9b-fd94-4f73-8378-9aef62053eea",
   "metadata": {
    "executionInfo": {
     "elapsed": 7,
     "status": "ok",
     "timestamp": 1648564929007,
     "user": {
      "displayName": "Laura Bosco Romero",
      "userId": "09918767640630398267"
     },
     "user_tz": -120
    },
    "id": "8870bb9b-fd94-4f73-8378-9aef62053eea"
   },
   "outputs": [],
   "source": [
    "# Imports\n",
    "import pandas as pd\n",
    "import seaborn as sns\n",
    "import json"
   ]
  },
  {
   "cell_type": "code",
   "execution_count": 2,
   "id": "16a9b356-2246-411c-b0d3-a76b5eb1e1dd",
   "metadata": {
    "executionInfo": {
     "elapsed": 8851,
     "status": "ok",
     "timestamp": 1648564939628,
     "user": {
      "displayName": "Laura Bosco Romero",
      "userId": "09918767640630398267"
     },
     "user_tz": -120
    },
    "id": "16a9b356-2246-411c-b0d3-a76b5eb1e1dd"
   },
   "outputs": [],
   "source": [
    "# Data file import\n",
    "path = \"../data/\"\n",
    "data = []\n",
    "with open(path + '202106_movements.json', 'r',encoding='latin-1') as f:\n",
    "    for line in f: \n",
    "        a = json.loads(line)               \n",
    "        a['_id'] = a['_id']['$oid']       \n",
    "        data.append(a)"
   ]
  },
  {
   "cell_type": "code",
   "execution_count": 3,
   "id": "49cf3aaa-1069-4ed2-919b-30aac754747d",
   "metadata": {
    "colab": {
     "base_uri": "https://localhost:8080/",
     "height": 206
    },
    "executionInfo": {
     "elapsed": 3317,
     "status": "ok",
     "timestamp": 1648564942937,
     "user": {
      "displayName": "Laura Bosco Romero",
      "userId": "09918767640630398267"
     },
     "user_tz": -120
    },
    "id": "49cf3aaa-1069-4ed2-919b-30aac754747d",
    "outputId": "4a54a6f6-4df2-43c0-e2cf-d677622229c4"
   },
   "outputs": [
    {
     "data": {
      "text/html": [
       "<div>\n",
       "<style scoped>\n",
       "    .dataframe tbody tr th:only-of-type {\n",
       "        vertical-align: middle;\n",
       "    }\n",
       "\n",
       "    .dataframe tbody tr th {\n",
       "        vertical-align: top;\n",
       "    }\n",
       "\n",
       "    .dataframe thead th {\n",
       "        text-align: right;\n",
       "    }\n",
       "</style>\n",
       "<table border=\"1\" class=\"dataframe\">\n",
       "  <thead>\n",
       "    <tr style=\"text-align: right;\">\n",
       "      <th></th>\n",
       "      <th>_id</th>\n",
       "      <th>user_day_code</th>\n",
       "      <th>idplug_base</th>\n",
       "      <th>user_type</th>\n",
       "      <th>idunplug_base</th>\n",
       "      <th>travel_time</th>\n",
       "      <th>idunplug_station</th>\n",
       "      <th>ageRange</th>\n",
       "      <th>idplug_station</th>\n",
       "      <th>unplug_hourTime</th>\n",
       "      <th>zip_code</th>\n",
       "    </tr>\n",
       "  </thead>\n",
       "  <tbody>\n",
       "    <tr>\n",
       "      <th>0</th>\n",
       "      <td>60bbf3f21b91311d90d568ad</td>\n",
       "      <td>b67ea824acf706087d5818ebc6f90821a5abaab17a0868...</td>\n",
       "      <td>15</td>\n",
       "      <td>1</td>\n",
       "      <td>13</td>\n",
       "      <td>319</td>\n",
       "      <td>38</td>\n",
       "      <td>0</td>\n",
       "      <td>54</td>\n",
       "      <td>2021-06-01T00:00:00Z</td>\n",
       "      <td></td>\n",
       "    </tr>\n",
       "    <tr>\n",
       "      <th>1</th>\n",
       "      <td>60bbf3f21b91311d90d568b2</td>\n",
       "      <td>364b1b99f1f9a1748f7abf1134c8d6a46197b583649308...</td>\n",
       "      <td>7</td>\n",
       "      <td>1</td>\n",
       "      <td>1</td>\n",
       "      <td>386</td>\n",
       "      <td>185</td>\n",
       "      <td>0</td>\n",
       "      <td>126</td>\n",
       "      <td>2021-06-01T00:00:00Z</td>\n",
       "      <td></td>\n",
       "    </tr>\n",
       "    <tr>\n",
       "      <th>2</th>\n",
       "      <td>60bbf3f21b91311d90d568b3</td>\n",
       "      <td>5cc17031cba02835dda4b6c153b56572beaade54d8ab91...</td>\n",
       "      <td>14</td>\n",
       "      <td>1</td>\n",
       "      <td>10</td>\n",
       "      <td>465</td>\n",
       "      <td>15</td>\n",
       "      <td>0</td>\n",
       "      <td>91</td>\n",
       "      <td>2021-06-01T00:00:00Z</td>\n",
       "      <td></td>\n",
       "    </tr>\n",
       "    <tr>\n",
       "      <th>3</th>\n",
       "      <td>60bbf3f21b91311d90d568b4</td>\n",
       "      <td>6e855acaaa17d6d14236598c0f1172c783e16950e39c01...</td>\n",
       "      <td>8</td>\n",
       "      <td>1</td>\n",
       "      <td>22</td>\n",
       "      <td>613</td>\n",
       "      <td>84</td>\n",
       "      <td>0</td>\n",
       "      <td>236</td>\n",
       "      <td>2021-06-01T00:00:00Z</td>\n",
       "      <td></td>\n",
       "    </tr>\n",
       "    <tr>\n",
       "      <th>4</th>\n",
       "      <td>60bbf3f21b91311d90d568b5</td>\n",
       "      <td>e93417502d55208995a61f4177956ab9289aba39044ce3...</td>\n",
       "      <td>1</td>\n",
       "      <td>1</td>\n",
       "      <td>4</td>\n",
       "      <td>751</td>\n",
       "      <td>131</td>\n",
       "      <td>5</td>\n",
       "      <td>94</td>\n",
       "      <td>2021-06-01T00:00:00Z</td>\n",
       "      <td>28006</td>\n",
       "    </tr>\n",
       "  </tbody>\n",
       "</table>\n",
       "</div>"
      ],
      "text/plain": [
       "                        _id  \\\n",
       "0  60bbf3f21b91311d90d568ad   \n",
       "1  60bbf3f21b91311d90d568b2   \n",
       "2  60bbf3f21b91311d90d568b3   \n",
       "3  60bbf3f21b91311d90d568b4   \n",
       "4  60bbf3f21b91311d90d568b5   \n",
       "\n",
       "                                       user_day_code  idplug_base  user_type  \\\n",
       "0  b67ea824acf706087d5818ebc6f90821a5abaab17a0868...           15          1   \n",
       "1  364b1b99f1f9a1748f7abf1134c8d6a46197b583649308...            7          1   \n",
       "2  5cc17031cba02835dda4b6c153b56572beaade54d8ab91...           14          1   \n",
       "3  6e855acaaa17d6d14236598c0f1172c783e16950e39c01...            8          1   \n",
       "4  e93417502d55208995a61f4177956ab9289aba39044ce3...            1          1   \n",
       "\n",
       "   idunplug_base  travel_time  idunplug_station  ageRange  idplug_station  \\\n",
       "0             13          319                38         0              54   \n",
       "1              1          386               185         0             126   \n",
       "2             10          465                15         0              91   \n",
       "3             22          613                84         0             236   \n",
       "4              4          751               131         5              94   \n",
       "\n",
       "        unplug_hourTime zip_code  \n",
       "0  2021-06-01T00:00:00Z           \n",
       "1  2021-06-01T00:00:00Z           \n",
       "2  2021-06-01T00:00:00Z           \n",
       "3  2021-06-01T00:00:00Z           \n",
       "4  2021-06-01T00:00:00Z    28006  "
      ]
     },
     "execution_count": 3,
     "metadata": {},
     "output_type": "execute_result"
    }
   ],
   "source": [
    "# Data sample\n",
    "df = pd.DataFrame(data)\n",
    "df.head()"
   ]
  },
  {
   "cell_type": "markdown",
   "id": "iwQrElYmZoW0",
   "metadata": {
    "id": "iwQrElYmZoW0"
   },
   "source": [
    "# Exercise 5 (2pts)\n",
    "Using seaborn create a graph showing a point for each journey on day 15:\n",
    "*   The x-axis will be the start time of the trip (0-23)\n",
    "*   The y-axis will be the length of the journey\n",
    "*   For the marker style the user type will be used\n",
    "*   The size of the bookmark will correspond to the age range of the user\n",
    "\n",
    "Note: Since there are only 24 possible values for the time, points will accumulate on them. It will be valued to find a solution that improves the visualization.<br>(Possible functions: catplot, stripplot, swarmplot)"
   ]
  },
  {
   "cell_type": "code",
   "execution_count": 4,
   "id": "TlnmEL-1AzID",
   "metadata": {
    "colab": {
     "base_uri": "https://localhost:8080/",
     "height": 402
    },
    "executionInfo": {
     "elapsed": 2706,
     "status": "ok",
     "timestamp": 1648570735849,
     "user": {
      "displayName": "Laura Bosco Romero",
      "userId": "09918767640630398267"
     },
     "user_tz": -120
    },
    "id": "TlnmEL-1AzID",
    "outputId": "b3544f22-8892-47df-a760-b0e66814d7a0"
   },
   "outputs": [
    {
     "data": {
      "text/plain": [
       "<seaborn.axisgrid.FacetGrid at 0x1c19a046490>"
      ]
     },
     "execution_count": 4,
     "metadata": {},
     "output_type": "execute_result"
    },
    {
     "data": {
      "image/png": "[encoded data removed]",
      "text/plain": [
       "<Figure size 427.625x360 with 1 Axes>"
      ]
     },
     "metadata": {
      "needs_background": "light"
     },
     "output_type": "display_data"
    }
   ],
   "source": [
    "# I collect in another column called unplug_day the day, and in unplug_hour the hour\n",
    "df['unplug_day'] = df['unplug_hourTime'].str[:10]\n",
    "df['unplug_hour'] = df['unplug_hourTime'].str[11:13].astype(int)\n",
    "\n",
    "# And I save the trips that were made on the 15th in a new dataframe\n",
    "fifteen = df.query(\"unplug_day == '2021-06-15'\")\n",
    "\n",
    "sns.relplot(\n",
    "    data = fifteen.rename(columns={\"user_type\": \"User type\", \"ageRange\": \"Age range\"}),\n",
    "    x = \"unplug_hour\", y = \"travel_time\", hue = \"User type\", size = \"Age range\").set(title='Day 15/06/2021 trips', xlabel = 'Hour of use', ylabel = 'Users quantity')"
   ]
  },
  {
   "cell_type": "markdown",
   "id": "b65cba50-95d0-4337-bfe2-0e3c03100076",
   "metadata": {
    "id": "b65cba50-95d0-4337-bfe2-0e3c03100076"
   },
   "source": [
    "# Exercise 6 (2pts)\n",
    "Using seaborn, create a graph to display the number of users of each type by day of the week.<br>\n",
    "(Possible functions: catplot, bar_plot, count_plot)"
   ]
  },
  {
   "cell_type": "code",
   "execution_count": 5,
   "id": "Q-bmM4NOIqDD",
   "metadata": {
    "executionInfo": {
     "elapsed": 44023,
     "status": "ok",
     "timestamp": 1648568274365,
     "user": {
      "displayName": "Laura Bosco Romero",
      "userId": "09918767640630398267"
     },
     "user_tz": -120
    },
    "id": "Q-bmM4NOIqDD"
   },
   "outputs": [],
   "source": [
    "# I create a new column called datetime that has the same value as unplug_hourTime but of type datetime\n",
    "df['datetime'] = pd.to_datetime(df['unplug_hourTime'])\n",
    "\n",
    "# I create another column called weekday that has the name of the week based on the weekday() value of the Datetime column\n",
    "weekday = []\n",
    "for field, row in df.iterrows():\n",
    "  if(row.datetime.weekday() == 0):\n",
    "    weekday.append('Monday')\n",
    "  if(row.datetime.weekday() == 1):\n",
    "    weekday.append('Tuesday')\n",
    "  if(row.datetime.weekday() == 2):\n",
    "    weekday.append('Wednesday')\n",
    "  if(row.datetime.weekday() == 3):\n",
    "    weekday.append('Thursday')\n",
    "  if(row.datetime.weekday() == 4):\n",
    "    weekday.append('Friday')\n",
    "  if(row.datetime.weekday() == 5):\n",
    "    weekday.append('Saturday')\n",
    "  if(row.datetime.weekday() == 6):\n",
    "    weekday.append('Sunday')\n",
    "df['weekday']=weekday"
   ]
  },
  {
   "cell_type": "code",
   "execution_count": 6,
   "id": "jrgqjuvHU5y8",
   "metadata": {
    "colab": {
     "base_uri": "https://localhost:8080/",
     "height": 347
    },
    "executionInfo": {
     "elapsed": 922,
     "status": "ok",
     "timestamp": 1648571236295,
     "user": {
      "displayName": "Laura Bosco Romero",
      "userId": "09918767640630398267"
     },
     "user_tz": -120
    },
    "id": "jrgqjuvHU5y8",
    "outputId": "37eb308c-203f-4100-98a7-5b3ac20cb6ca"
   },
   "outputs": [
    {
     "data": {
      "text/plain": [
       "[Text(0.5, 1.0, 'Users by type and day of the week'),\n",
       " Text(0.5, 0, 'Users quantity'),\n",
       " Text(0, 0.5, 'Weekday')]"
      ]
     },
     "execution_count": 6,
     "metadata": {},
     "output_type": "execute_result"
    },
    {
     "data": {
      "image/png": "[encoded data removed]",
      "text/plain": [
       "<Figure size 432x288 with 1 Axes>"
      ]
     },
     "metadata": {
      "needs_background": "light"
     },
     "output_type": "display_data"
    }
   ],
   "source": [
    "sns.countplot(data = df.rename(columns={\"user_type\": \"User type\"}),\n",
    "              x = \"weekday\", hue = \"User type\").set(title = 'Users by type and day of the week', xlabel = 'Users quantity', ylabel = 'Weekday')"
   ]
  }
 ],
 "metadata": {
  "colab": {
   "collapsed_sections": [],
   "name": "Entrega 1.2. - Laura Bosco.ipynb",
   "provenance": []
  },
  "kernelspec": {
   "display_name": "Python 3 (ipykernel)",
   "language": "python",
   "name": "python3"
  },
  "language_info": {
   "codemirror_mode": {
    "name": "ipython",
    "version": 3
   },
   "file_extension": ".py",
   "mimetype": "text/x-python",
   "name": "python",
   "nbconvert_exporter": "python",
   "pygments_lexer": "ipython3",
   "version": "3.9.7"
  }
 },
 "nbformat": 4,
 "nbformat_minor": 5
}
